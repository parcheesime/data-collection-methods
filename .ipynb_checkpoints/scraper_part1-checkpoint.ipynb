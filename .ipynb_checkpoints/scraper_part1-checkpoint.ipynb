{
 "cells": [
  {
   "cell_type": "markdown",
   "metadata": {},
   "source": [
    "# Web Scraping - Part 1\n",
    "### Scraping Tables from webpages"
   ]
  },
  {
   "cell_type": "markdown",
   "metadata": {},
   "source": [
    "> Prerequisites: Pandas Library"
   ]
  },
  {
   "cell_type": "code",
   "execution_count": 2,
   "metadata": {},
   "outputs": [],
   "source": [
    "import pandas as pd"
   ]
  },
  {
   "cell_type": "markdown",
   "metadata": {},
   "source": [
    "> Input URL"
   ]
  },
  {
   "cell_type": "code",
   "execution_count": 3,
   "metadata": {},
   "outputs": [
    {
     "name": "stdout",
     "output_type": "stream",
     "text": [
      "Enter URL:https://cottagegardenflowershop.co.uk/flower-names/\n"
     ]
    },
    {
     "data": {
      "text/plain": [
       "[        Common Name Botanical Name        Image  \\\n",
       " 0      African lily     Agapanthus  Coming Soon   \n",
       " 1    Alpine thistle       Eryngium          NaN   \n",
       " 2         Amaryllis    Hippeastrum          NaN   \n",
       " 3       Amazon lily       Eucharis          NaN   \n",
       " 4         Arum Lily   Zantedeschia          NaN   \n",
       " ..              ...            ...          ...   \n",
       " 71  Transvaal daisy        Gerbera          NaN   \n",
       " 72            Tulip         Tulipa          NaN   \n",
       " 73        Waxflower  Chamaelaucium  Coming Soon   \n",
       " 74       Windflower        Anemone          NaN   \n",
       " 75           Yarrow       Achillia  Coming Soon   \n",
       " \n",
       "                             Download  \n",
       " 0                                NaN  \n",
       " 1   Download high resolution version  \n",
       " 2                                NaN  \n",
       " 3                                NaN  \n",
       " 4   Download high resolution version  \n",
       " ..                               ...  \n",
       " 71  Download high resolution version  \n",
       " 72  Download high resolution version  \n",
       " 73                               NaN  \n",
       " 74  Download high resolution version  \n",
       " 75                               NaN  \n",
       " \n",
       " [76 rows x 4 columns]]"
      ]
     },
     "execution_count": 3,
     "metadata": {},
     "output_type": "execute_result"
    }
   ],
   "source": [
    " \n",
    "url = input('Enter URL:')\n",
    "data_scraped = pd.read_html(url, match='.+')\n",
    "ds = data_scraped\n",
    "ds\n"
   ]
  },
  {
   "cell_type": "code",
   "execution_count": 4,
   "metadata": {},
   "outputs": [
    {
     "data": {
      "text/plain": [
       "list"
      ]
     },
     "execution_count": 4,
     "metadata": {},
     "output_type": "execute_result"
    }
   ],
   "source": [
    "type(ds)"
   ]
  },
  {
   "cell_type": "markdown",
   "metadata": {},
   "source": [
    "> View tables"
   ]
  },
  {
   "cell_type": "code",
   "execution_count": 5,
   "metadata": {},
   "outputs": [
    {
     "data": {
      "text/plain": [
       "[        Common Name Botanical Name        Image  \\\n",
       " 0      African lily     Agapanthus  Coming Soon   \n",
       " 1    Alpine thistle       Eryngium          NaN   \n",
       " 2         Amaryllis    Hippeastrum          NaN   \n",
       " 3       Amazon lily       Eucharis          NaN   \n",
       " 4         Arum Lily   Zantedeschia          NaN   \n",
       " ..              ...            ...          ...   \n",
       " 71  Transvaal daisy        Gerbera          NaN   \n",
       " 72            Tulip         Tulipa          NaN   \n",
       " 73        Waxflower  Chamaelaucium  Coming Soon   \n",
       " 74       Windflower        Anemone          NaN   \n",
       " 75           Yarrow       Achillia  Coming Soon   \n",
       " \n",
       "                             Download  \n",
       " 0                                NaN  \n",
       " 1   Download high resolution version  \n",
       " 2                                NaN  \n",
       " 3                                NaN  \n",
       " 4   Download high resolution version  \n",
       " ..                               ...  \n",
       " 71  Download high resolution version  \n",
       " 72  Download high resolution version  \n",
       " 73                               NaN  \n",
       " 74  Download high resolution version  \n",
       " 75                               NaN  \n",
       " \n",
       " [76 rows x 4 columns]]"
      ]
     },
     "execution_count": 5,
     "metadata": {},
     "output_type": "execute_result"
    }
   ],
   "source": [
    "ds"
   ]
  },
  {
   "cell_type": "code",
   "execution_count": 6,
   "metadata": {},
   "outputs": [
    {
     "data": {
      "text/html": [
       "<div>\n",
       "<style scoped>\n",
       "    .dataframe tbody tr th:only-of-type {\n",
       "        vertical-align: middle;\n",
       "    }\n",
       "\n",
       "    .dataframe tbody tr th {\n",
       "        vertical-align: top;\n",
       "    }\n",
       "\n",
       "    .dataframe thead th {\n",
       "        text-align: right;\n",
       "    }\n",
       "</style>\n",
       "<table border=\"1\" class=\"dataframe\">\n",
       "  <thead>\n",
       "    <tr style=\"text-align: right;\">\n",
       "      <th></th>\n",
       "      <th>Common Name</th>\n",
       "      <th>Botanical Name</th>\n",
       "      <th>Image</th>\n",
       "      <th>Download</th>\n",
       "    </tr>\n",
       "  </thead>\n",
       "  <tbody>\n",
       "    <tr>\n",
       "      <th>0</th>\n",
       "      <td>African lily</td>\n",
       "      <td>Agapanthus</td>\n",
       "      <td>Coming Soon</td>\n",
       "      <td>NaN</td>\n",
       "    </tr>\n",
       "    <tr>\n",
       "      <th>1</th>\n",
       "      <td>Alpine thistle</td>\n",
       "      <td>Eryngium</td>\n",
       "      <td>NaN</td>\n",
       "      <td>Download high resolution version</td>\n",
       "    </tr>\n",
       "    <tr>\n",
       "      <th>2</th>\n",
       "      <td>Amaryllis</td>\n",
       "      <td>Hippeastrum</td>\n",
       "      <td>NaN</td>\n",
       "      <td>NaN</td>\n",
       "    </tr>\n",
       "    <tr>\n",
       "      <th>3</th>\n",
       "      <td>Amazon lily</td>\n",
       "      <td>Eucharis</td>\n",
       "      <td>NaN</td>\n",
       "      <td>NaN</td>\n",
       "    </tr>\n",
       "    <tr>\n",
       "      <th>4</th>\n",
       "      <td>Arum Lily</td>\n",
       "      <td>Zantedeschia</td>\n",
       "      <td>NaN</td>\n",
       "      <td>Download high resolution version</td>\n",
       "    </tr>\n",
       "    <tr>\n",
       "      <th>...</th>\n",
       "      <td>...</td>\n",
       "      <td>...</td>\n",
       "      <td>...</td>\n",
       "      <td>...</td>\n",
       "    </tr>\n",
       "    <tr>\n",
       "      <th>71</th>\n",
       "      <td>Transvaal daisy</td>\n",
       "      <td>Gerbera</td>\n",
       "      <td>NaN</td>\n",
       "      <td>Download high resolution version</td>\n",
       "    </tr>\n",
       "    <tr>\n",
       "      <th>72</th>\n",
       "      <td>Tulip</td>\n",
       "      <td>Tulipa</td>\n",
       "      <td>NaN</td>\n",
       "      <td>Download high resolution version</td>\n",
       "    </tr>\n",
       "    <tr>\n",
       "      <th>73</th>\n",
       "      <td>Waxflower</td>\n",
       "      <td>Chamaelaucium</td>\n",
       "      <td>Coming Soon</td>\n",
       "      <td>NaN</td>\n",
       "    </tr>\n",
       "    <tr>\n",
       "      <th>74</th>\n",
       "      <td>Windflower</td>\n",
       "      <td>Anemone</td>\n",
       "      <td>NaN</td>\n",
       "      <td>Download high resolution version</td>\n",
       "    </tr>\n",
       "    <tr>\n",
       "      <th>75</th>\n",
       "      <td>Yarrow</td>\n",
       "      <td>Achillia</td>\n",
       "      <td>Coming Soon</td>\n",
       "      <td>NaN</td>\n",
       "    </tr>\n",
       "  </tbody>\n",
       "</table>\n",
       "<p>76 rows × 4 columns</p>\n",
       "</div>"
      ],
      "text/plain": [
       "        Common Name Botanical Name        Image  \\\n",
       "0      African lily     Agapanthus  Coming Soon   \n",
       "1    Alpine thistle       Eryngium          NaN   \n",
       "2         Amaryllis    Hippeastrum          NaN   \n",
       "3       Amazon lily       Eucharis          NaN   \n",
       "4         Arum Lily   Zantedeschia          NaN   \n",
       "..              ...            ...          ...   \n",
       "71  Transvaal daisy        Gerbera          NaN   \n",
       "72            Tulip         Tulipa          NaN   \n",
       "73        Waxflower  Chamaelaucium  Coming Soon   \n",
       "74       Windflower        Anemone          NaN   \n",
       "75           Yarrow       Achillia  Coming Soon   \n",
       "\n",
       "                            Download  \n",
       "0                                NaN  \n",
       "1   Download high resolution version  \n",
       "2                                NaN  \n",
       "3                                NaN  \n",
       "4   Download high resolution version  \n",
       "..                               ...  \n",
       "71  Download high resolution version  \n",
       "72  Download high resolution version  \n",
       "73                               NaN  \n",
       "74  Download high resolution version  \n",
       "75                               NaN  \n",
       "\n",
       "[76 rows x 4 columns]"
      ]
     },
     "execution_count": 6,
     "metadata": {},
     "output_type": "execute_result"
    }
   ],
   "source": [
    "ds[0]"
   ]
  },
  {
   "cell_type": "code",
   "execution_count": 7,
   "metadata": {},
   "outputs": [
    {
     "data": {
      "text/plain": [
       "pandas.core.frame.DataFrame"
      ]
     },
     "execution_count": 7,
     "metadata": {},
     "output_type": "execute_result"
    }
   ],
   "source": [
    "type(ds[0])"
   ]
  }
 ],
 "metadata": {
  "kernelspec": {
   "display_name": "Python 3 (ipykernel)",
   "language": "python",
   "name": "python3"
  },
  "language_info": {
   "codemirror_mode": {
    "name": "ipython",
    "version": 3
   },
   "file_extension": ".py",
   "mimetype": "text/x-python",
   "name": "python",
   "nbconvert_exporter": "python",
   "pygments_lexer": "ipython3",
   "version": "3.9.12"
  },
  "vscode": {
   "interpreter": {
    "hash": "8ad3b4ca62056b0ddf6609e8c0d475b5225220fb28d68e3e23627eb1e1c7d9eb"
   }
  }
 },
 "nbformat": 4,
 "nbformat_minor": 2
}
