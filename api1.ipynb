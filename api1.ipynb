{
 "cells": [
  {
   "cell_type": "markdown",
   "metadata": {},
   "source": [
    "## Interacting with APIs\n",
    "\n",
    "If the site has an API, use it.\n",
    "\n",
    "This tutorial uses the [Caltrans API](https://caltrans-gis.dot.ca.gov/arcgis/rest/services)\n",
    "\n",
    "API 1.0 Vocab\n",
    "\n",
    "| Term | Description |\n",
    "| -------- | ----------- |\n",
    "| API | Application Programming Interface, is a way to use web protocols to access data. |\n",
    "| JSON | an open standard file format with diverse uses in electronic data interchange, including that of web applications with servers. |\n",
    "| Dictionaries |a data structure that consists of a collection of key-value pairs. |\n",
    "\n"
   ]
  },
  {
   "cell_type": "markdown",
   "metadata": {},
   "source": [
    "\n",
    "- APIs use a dedicated URL that returns data that is often in a JSON format. \n",
    "\n",
    "- We can parse the json file and to get our data. Read more about JSON [HERE]('https://realpython.com/python-json/')."
   ]
  },
  {
   "cell_type": "code",
   "execution_count": 1,
   "metadata": {},
   "outputs": [],
   "source": [
    "# Add libraries\n",
    "import requests\n",
    "import json\n",
    "import urllib3\n",
    "import pprint as pp\n",
    "import pandas as pd"
   ]
  },
  {
   "cell_type": "markdown",
   "metadata": {},
   "source": [
    "### API example - no key\n",
    "\n",
    "In this example we scrape cctv footage from CA highways and put the data into a dataframe. \n",
    "\n",
    "No API key required for caltrans-gis.dot.ca.gov"
   ]
  },
  {
   "cell_type": "code",
   "execution_count": 2,
   "metadata": {},
   "outputs": [],
   "source": [
    "# function to grab data from a resource url\n",
    "def getdata(url):\n",
    "    try:\n",
    "        response=requests.get(url)\n",
    "        return response.json()\n",
    "    except:\n",
    "        return response.status_code"
   ]
  },
  {
   "cell_type": "markdown",
   "metadata": {},
   "source": [
    "Using the above function, get the cctv data in json format."
   ]
  },
  {
   "cell_type": "code",
   "execution_count": 3,
   "metadata": {},
   "outputs": [],
   "source": [
    "# get data from ca.gov api explorer\n",
    "cctv=getdata('https://caltrans-gis.dot.ca.gov/arcgis/rest/services/CHhighway/CCTV/FeatureServer/0/query?where=1%3D1&outFields=*&outSR=4326&f=json')"
   ]
  },
  {
   "cell_type": "markdown",
   "metadata": {},
   "source": [
    "JSON data is a dictionary format"
   ]
  },
  {
   "cell_type": "code",
   "execution_count": 4,
   "metadata": {},
   "outputs": [
    {
     "data": {
      "text/plain": [
       "int"
      ]
     },
     "execution_count": 4,
     "metadata": {},
     "output_type": "execute_result"
    }
   ],
   "source": [
    "type(cctv)"
   ]
  },
  {
   "cell_type": "code",
   "execution_count": 5,
   "metadata": {},
   "outputs": [
    {
     "ename": "AttributeError",
     "evalue": "'int' object has no attribute 'keys'",
     "output_type": "error",
     "traceback": [
      "\u001b[1;31m---------------------------------------------------------------------------\u001b[0m",
      "\u001b[1;31mAttributeError\u001b[0m                            Traceback (most recent call last)",
      "\u001b[1;32mc:\\Users\\nunto\\JupyterProjects\\WebScraper Tutorials\\api1.ipynb Cell 10\u001b[0m in \u001b[0;36m<cell line: 2>\u001b[1;34m()\u001b[0m\n\u001b[0;32m      <a href='vscode-notebook-cell:/c%3A/Users/nunto/JupyterProjects/WebScraper%20Tutorials/api1.ipynb#X12sZmlsZQ%3D%3D?line=0'>1</a>\u001b[0m \u001b[39m# view the data\u001b[39;00m\n\u001b[1;32m----> <a href='vscode-notebook-cell:/c%3A/Users/nunto/JupyterProjects/WebScraper%20Tutorials/api1.ipynb#X12sZmlsZQ%3D%3D?line=1'>2</a>\u001b[0m cctv\u001b[39m.\u001b[39;49mkeys()\n",
      "\u001b[1;31mAttributeError\u001b[0m: 'int' object has no attribute 'keys'"
     ]
    }
   ],
   "source": [
    "# view the data\n",
    "cctv.keys()"
   ]
  },
  {
   "cell_type": "code",
   "execution_count": null,
   "metadata": {},
   "outputs": [
    {
     "data": {
      "text/plain": [
       "{'attributes': {'OBJECTID': 1,\n",
       "  'index_': '1',\n",
       "  'recordDate': 1626912000000,\n",
       "  'recordTime': '6:50:03',\n",
       "  'recordEpoch': 1626961803,\n",
       "  'district': 1,\n",
       "  'locationName': 'SR-20 : At SR-1 - Looking East (C020)',\n",
       "  'nearbyPlace': 'Fort Bragg',\n",
       "  'longitude': -123.80779,\n",
       "  'latitude': 39.42002,\n",
       "  'elevation': 95.0,\n",
       "  'direction': 'East',\n",
       "  'county': 'Mendocino',\n",
       "  'route': 'SR-20',\n",
       "  'routeSuffix': None,\n",
       "  'postmilePrefix': 'R',\n",
       "  'postmile': 0.01,\n",
       "  'alignment': None,\n",
       "  'milepost': 0.01,\n",
       "  'inService': 'TRUE',\n",
       "  'imageDescription': None,\n",
       "  'streamingVideoURL': None,\n",
       "  'currentImageUpdateFrequency': '15',\n",
       "  'currentImageURL': 'https://cwwp2.dot.ca.gov/data/d1/cctv/image/sr20atsr1lookingeast/sr20atsr1lookingeast.jpg',\n",
       "  'referenceImageUpdateFrequency': None},\n",
       " 'geometry': {'x': -123.80778999963576, 'y': 39.42002000007047}}"
      ]
     },
     "execution_count": 7,
     "metadata": {},
     "output_type": "execute_result"
    }
   ],
   "source": [
    "# view first item in features key\n",
    "cctv['features'][0]"
   ]
  },
  {
   "cell_type": "markdown",
   "metadata": {},
   "source": [
    "Search the cctv json data which will be in a dictionary format. We will need to get the 'features' data."
   ]
  },
  {
   "cell_type": "code",
   "execution_count": null,
   "metadata": {},
   "outputs": [],
   "source": [
    "# make a list of dictionaries that include cctv 'features'\n",
    "features=[dict['attributes'] for dict in cctv['features']]"
   ]
  },
  {
   "cell_type": "code",
   "execution_count": null,
   "metadata": {},
   "outputs": [],
   "source": [
    "# create a dataframe from the lsit of dictionaries\n",
    "cctvdf=pd.DataFrame.from_records(features)"
   ]
  },
  {
   "cell_type": "code",
   "execution_count": null,
   "metadata": {},
   "outputs": [
    {
     "data": {
      "text/html": [
       "<div>\n",
       "<style scoped>\n",
       "    .dataframe tbody tr th:only-of-type {\n",
       "        vertical-align: middle;\n",
       "    }\n",
       "\n",
       "    .dataframe tbody tr th {\n",
       "        vertical-align: top;\n",
       "    }\n",
       "\n",
       "    .dataframe thead th {\n",
       "        text-align: right;\n",
       "    }\n",
       "</style>\n",
       "<table border=\"1\" class=\"dataframe\">\n",
       "  <thead>\n",
       "    <tr style=\"text-align: right;\">\n",
       "      <th></th>\n",
       "      <th>OBJECTID</th>\n",
       "      <th>index_</th>\n",
       "      <th>recordDate</th>\n",
       "      <th>recordTime</th>\n",
       "      <th>recordEpoch</th>\n",
       "      <th>district</th>\n",
       "      <th>locationName</th>\n",
       "      <th>nearbyPlace</th>\n",
       "      <th>longitude</th>\n",
       "      <th>latitude</th>\n",
       "      <th>...</th>\n",
       "      <th>postmilePrefix</th>\n",
       "      <th>postmile</th>\n",
       "      <th>alignment</th>\n",
       "      <th>milepost</th>\n",
       "      <th>inService</th>\n",
       "      <th>imageDescription</th>\n",
       "      <th>streamingVideoURL</th>\n",
       "      <th>currentImageUpdateFrequency</th>\n",
       "      <th>currentImageURL</th>\n",
       "      <th>referenceImageUpdateFrequency</th>\n",
       "    </tr>\n",
       "  </thead>\n",
       "  <tbody>\n",
       "    <tr>\n",
       "      <th>0</th>\n",
       "      <td>1</td>\n",
       "      <td>1</td>\n",
       "      <td>1626912000000</td>\n",
       "      <td>6:50:03</td>\n",
       "      <td>1626961803</td>\n",
       "      <td>1</td>\n",
       "      <td>SR-20 : At SR-1 - Looking East (C020)</td>\n",
       "      <td>Fort Bragg</td>\n",
       "      <td>-123.80779</td>\n",
       "      <td>39.42002</td>\n",
       "      <td>...</td>\n",
       "      <td>R</td>\n",
       "      <td>0.01</td>\n",
       "      <td>None</td>\n",
       "      <td>0.01</td>\n",
       "      <td>TRUE</td>\n",
       "      <td>None</td>\n",
       "      <td>None</td>\n",
       "      <td>15</td>\n",
       "      <td>https://cwwp2.dot.ca.gov/data/d1/cctv/image/sr...</td>\n",
       "      <td>None</td>\n",
       "    </tr>\n",
       "    <tr>\n",
       "      <th>1</th>\n",
       "      <td>2</td>\n",
       "      <td>9</td>\n",
       "      <td>1619654400000</td>\n",
       "      <td>8:26:39</td>\n",
       "      <td>1619709999</td>\n",
       "      <td>1</td>\n",
       "      <td>SR-20 : West Of US-101 - Looking East (C007)</td>\n",
       "      <td>Willits</td>\n",
       "      <td>-123.36904</td>\n",
       "      <td>39.40581</td>\n",
       "      <td>...</td>\n",
       "      <td>None</td>\n",
       "      <td>32.21</td>\n",
       "      <td>None</td>\n",
       "      <td>32.16</td>\n",
       "      <td>TRUE</td>\n",
       "      <td>None</td>\n",
       "      <td>None</td>\n",
       "      <td>15</td>\n",
       "      <td>https://cwwp2.dot.ca.gov/data/d1/cctv/image/sr...</td>\n",
       "      <td>None</td>\n",
       "    </tr>\n",
       "    <tr>\n",
       "      <th>2</th>\n",
       "      <td>3</td>\n",
       "      <td>11</td>\n",
       "      <td>1619654400000</td>\n",
       "      <td>8:26:53</td>\n",
       "      <td>1619710013</td>\n",
       "      <td>1</td>\n",
       "      <td>SR-20 : West Of US-101 - Looking West (C007)</td>\n",
       "      <td>Willits</td>\n",
       "      <td>-123.36904</td>\n",
       "      <td>39.40581</td>\n",
       "      <td>...</td>\n",
       "      <td>None</td>\n",
       "      <td>32.21</td>\n",
       "      <td>None</td>\n",
       "      <td>32.16</td>\n",
       "      <td>TRUE</td>\n",
       "      <td>None</td>\n",
       "      <td>None</td>\n",
       "      <td>15</td>\n",
       "      <td>https://cwwp2.dot.ca.gov/data/d1/cctv/image/sr...</td>\n",
       "      <td>None</td>\n",
       "    </tr>\n",
       "    <tr>\n",
       "      <th>3</th>\n",
       "      <td>4</td>\n",
       "      <td>14</td>\n",
       "      <td>1564617600000</td>\n",
       "      <td>18:12:25</td>\n",
       "      <td>1564708345</td>\n",
       "      <td>1</td>\n",
       "      <td>SR-20 : East Of US-101 - Looking East (C006)</td>\n",
       "      <td>Ukiah</td>\n",
       "      <td>-123.16703</td>\n",
       "      <td>39.23780</td>\n",
       "      <td>...</td>\n",
       "      <td>None</td>\n",
       "      <td>35.68</td>\n",
       "      <td>None</td>\n",
       "      <td>35.57</td>\n",
       "      <td>TRUE</td>\n",
       "      <td>None</td>\n",
       "      <td>None</td>\n",
       "      <td>15</td>\n",
       "      <td>https://cwwp2.dot.ca.gov/data/d1/cctv/image/sr...</td>\n",
       "      <td>None</td>\n",
       "    </tr>\n",
       "    <tr>\n",
       "      <th>4</th>\n",
       "      <td>5</td>\n",
       "      <td>16</td>\n",
       "      <td>1564617600000</td>\n",
       "      <td>18:12:10</td>\n",
       "      <td>1564708330</td>\n",
       "      <td>1</td>\n",
       "      <td>SR-20 : East Of US-101 - Looking West (C006)</td>\n",
       "      <td>Ukiah</td>\n",
       "      <td>-123.16703</td>\n",
       "      <td>39.23780</td>\n",
       "      <td>...</td>\n",
       "      <td>None</td>\n",
       "      <td>35.68</td>\n",
       "      <td>None</td>\n",
       "      <td>35.57</td>\n",
       "      <td>TRUE</td>\n",
       "      <td>None</td>\n",
       "      <td>None</td>\n",
       "      <td>15</td>\n",
       "      <td>https://cwwp2.dot.ca.gov/data/d1/cctv/image/sr...</td>\n",
       "      <td>None</td>\n",
       "    </tr>\n",
       "  </tbody>\n",
       "</table>\n",
       "<p>5 rows × 25 columns</p>\n",
       "</div>"
      ],
      "text/plain": [
       "   OBJECTID index_     recordDate recordTime  recordEpoch  district  \\\n",
       "0         1      1  1626912000000    6:50:03   1626961803         1   \n",
       "1         2      9  1619654400000    8:26:39   1619709999         1   \n",
       "2         3     11  1619654400000    8:26:53   1619710013         1   \n",
       "3         4     14  1564617600000   18:12:25   1564708345         1   \n",
       "4         5     16  1564617600000   18:12:10   1564708330         1   \n",
       "\n",
       "                                   locationName nearbyPlace  longitude  \\\n",
       "0         SR-20 : At SR-1 - Looking East (C020)  Fort Bragg -123.80779   \n",
       "1  SR-20 : West Of US-101 - Looking East (C007)     Willits -123.36904   \n",
       "2  SR-20 : West Of US-101 - Looking West (C007)     Willits -123.36904   \n",
       "3  SR-20 : East Of US-101 - Looking East (C006)       Ukiah -123.16703   \n",
       "4  SR-20 : East Of US-101 - Looking West (C006)       Ukiah -123.16703   \n",
       "\n",
       "   latitude  ...  postmilePrefix postmile alignment milepost inService  \\\n",
       "0  39.42002  ...               R     0.01      None     0.01      TRUE   \n",
       "1  39.40581  ...            None    32.21      None    32.16      TRUE   \n",
       "2  39.40581  ...            None    32.21      None    32.16      TRUE   \n",
       "3  39.23780  ...            None    35.68      None    35.57      TRUE   \n",
       "4  39.23780  ...            None    35.68      None    35.57      TRUE   \n",
       "\n",
       "  imageDescription  streamingVideoURL currentImageUpdateFrequency  \\\n",
       "0             None               None                          15   \n",
       "1             None               None                          15   \n",
       "2             None               None                          15   \n",
       "3             None               None                          15   \n",
       "4             None               None                          15   \n",
       "\n",
       "                                     currentImageURL  \\\n",
       "0  https://cwwp2.dot.ca.gov/data/d1/cctv/image/sr...   \n",
       "1  https://cwwp2.dot.ca.gov/data/d1/cctv/image/sr...   \n",
       "2  https://cwwp2.dot.ca.gov/data/d1/cctv/image/sr...   \n",
       "3  https://cwwp2.dot.ca.gov/data/d1/cctv/image/sr...   \n",
       "4  https://cwwp2.dot.ca.gov/data/d1/cctv/image/sr...   \n",
       "\n",
       "  referenceImageUpdateFrequency  \n",
       "0                          None  \n",
       "1                          None  \n",
       "2                          None  \n",
       "3                          None  \n",
       "4                          None  \n",
       "\n",
       "[5 rows x 25 columns]"
      ]
     },
     "execution_count": 10,
     "metadata": {},
     "output_type": "execute_result"
    }
   ],
   "source": [
    "# view dataframe\n",
    "cctvdf.head()"
   ]
  }
 ],
 "metadata": {
  "kernelspec": {
   "display_name": "Python 3.9.13 64-bit (microsoft store)",
   "language": "python",
   "name": "python3"
  },
  "language_info": {
   "codemirror_mode": {
    "name": "ipython",
    "version": 3
   },
   "file_extension": ".py",
   "mimetype": "text/x-python",
   "name": "python",
   "nbconvert_exporter": "python",
   "pygments_lexer": "ipython3",
   "version": "3.9.13"
  },
  "orig_nbformat": 4,
  "vscode": {
   "interpreter": {
    "hash": "8ad3b4ca62056b0ddf6609e8c0d475b5225220fb28d68e3e23627eb1e1c7d9eb"
   }
  }
 },
 "nbformat": 4,
 "nbformat_minor": 2
}
