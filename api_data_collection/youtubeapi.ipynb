{
 "cells": [
  {
   "cell_type": "code",
   "execution_count": 5,
   "metadata": {},
   "outputs": [],
   "source": [
    "from googleapiclient.discovery import build\n",
    "from config import API_KEY\n",
    "\n",
    "# Replace 'YOUR_API_KEY' with your actual API Key\n",
    "api_key = API_KEY\n",
    "\n",
    "# Replace 'SEARCH_KEYWORD' with your search term\n",
    "search_keyword = 'cats'\n",
    "\n",
    "# Create a build object for the YouTube API. No need to specify version as 'v3' is default.\n",
    "youtube = build('youtube', 'v3', developerKey=api_key)"
   ]
  },
  {
   "cell_type": "code",
   "execution_count": 6,
   "metadata": {},
   "outputs": [
    {
     "name": "stdout",
     "output_type": "stream",
     "text": [
      "Title: 🔴 24/7 LIVE: Cat TV for Cats to Watch 😺 Cute Little Birds Squirrels 4K, Video ID: toGCz1YPUFQ\n",
      "Title: 😹Cats Doing Cat Things😹 (3), Video ID: 3bhkYoMWTFE\n",
      "Title: Ultimate Funny Cats and Dogs 😻🐶 Funny Cat Videos of 2024, Video ID: aQX9uQEdFoc\n",
      "Title: Fears of Sonya&#39;s cat🐱#cat #cats, Video ID: mHiMcv9Md84\n",
      "Title: Kitten meowing to attract cats, Video ID: NsMKvVdEPkw\n",
      "Title: Kitten gains weight to save dad  🐱 ginger cat | A true story #cat #kitten #aicat #cute  #story, Video ID: NX3MqiqmCuI\n",
      "Title: Love Story💙 #cat #cats, Video ID: WwV1ikzS30k\n",
      "Title: Woman Talks To Stray Cat...And It Works | The Dodo, Video ID: -IaQ4RUn87Q\n",
      "Title: 💔 #cat #cats, Video ID: rs1kUmYJIvY\n",
      "Title: When your cats are your last two brain cells 🤣, Video ID: Mu9-IW85UAc\n"
     ]
    }
   ],
   "source": [
    "# Call the search.list method to retrieve youtube search results.\n",
    "request = youtube.search().list(\n",
    "    part=\"snippet\",  # Part signifies which portion of the data should be returned\n",
    "    maxResults=10,  # Number of results to return\n",
    "    q=search_keyword  # Search query\n",
    ")\n",
    "\n",
    "response = request.execute()\n",
    "\n",
    "# Loop through the response and print video titles\n",
    "for item in response.get('items', []):\n",
    "    if item['id']['kind'] == \"youtube#video\":\n",
    "        title = item['snippet']['title']\n",
    "        video_id = item['id']['videoId']\n",
    "        print(f\"Title: {title}, Video ID: {video_id}\")\n"
   ]
  }
 ],
 "metadata": {
  "kernelspec": {
   "display_name": "Python 3",
   "language": "python",
   "name": "python3"
  },
  "language_info": {
   "codemirror_mode": {
    "name": "ipython",
    "version": 3
   },
   "file_extension": ".py",
   "mimetype": "text/x-python",
   "name": "python",
   "nbconvert_exporter": "python",
   "pygments_lexer": "ipython3",
   "version": "3.10.6"
  }
 },
 "nbformat": 4,
 "nbformat_minor": 2
}
