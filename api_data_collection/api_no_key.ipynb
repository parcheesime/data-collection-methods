{
 "cells": [
  {
   "cell_type": "markdown",
   "metadata": {},
   "source": [
    "# API (No Key) Basics\n",
    "\n",
    "## 1. Learning Goals\n",
    "By the end of this section, you will be able to:\n",
    "- Call a public API without authentication.\n",
    "- Pass query parameters in a request.\n",
    "- Handle pagination to collect multiple pages of results.\n",
    "- Convert JSON responses into a table (e.g., DataFrame).\n",
    "\n",
    "---\n",
    "\n",
    "## 2. Request → Response Mental Model\n",
    "Think of an API call as a **conversation**:\n",
    "\n",
    "- **Endpoint**: the exact URL you call.  \n",
    "- **Method**: often `GET` for retrieving data.  \n",
    "- **Query parameters**: key–value pairs after `?` in the URL that filter or shape results.  \n",
    "- **Status code**: tells you if the request worked (`200 OK`) or failed (`4xx/5xx`).  \n",
    "- **Body**: the data returned, usually in JSON format.  \n",
    "\n",
    "Example request URL:\n",
    "\n",
    "This tutorial uses the [Caltrans API](https://caltrans-gis.dot.ca.gov/arcgis/rest/services)\n",
    "---\n",
    "\n",
    "## 3. Vocabulary for APIs\n",
    "| Term | Why it matters |\n",
    "|------|----------------|\n",
    "| **Endpoint** | The specific URL where you send a request. |\n",
    "| **Query parameters** | Extra information in the request URL to filter, limit, or sort results. |\n",
    "| **HTTP status code** | A fast way to see if your call succeeded (`200`), failed (`404` not found), or had an error (`500` server). |\n",
    "| **Pagination** | Splitting results across multiple pages; requires parameters like `offset` and `limit`. |\n",
    "| **Rate limit** | Restriction on how many calls you can make per minute/hour. |\n",
    "| **Schema** | The structure of the data (field names, data types) that the API returns. |\n",
    "\n",
    "---"
   ]
  },
  {
   "cell_type": "markdown",
   "metadata": {},
   "source": [
    "\n",
    "- APIs use a dedicated URL that returns data that is often in a JSON format. \n",
    "\n",
    "- We can parse the json file and to get our data. Read more about JSON [HERE]('https://realpython.com/python-json/')."
   ]
  },
  {
   "cell_type": "code",
   "execution_count": null,
   "metadata": {},
   "outputs": [],
   "source": [
    "# Add libraries\n",
    "import requests\n",
    "import pprint as pp\n",
    "import pandas as pd"
   ]
  },
  {
   "cell_type": "markdown",
   "metadata": {},
   "source": [
    "### API example - no key\n",
    "\n",
    "In this example we scrape cctv footage from CA highways and put the data into a dataframe. \n",
    "\n",
    "No API key required for caltrans-gis.dot.ca.gov"
   ]
  },
  {
   "cell_type": "code",
   "execution_count": 5,
   "metadata": {},
   "outputs": [],
   "source": [
    "# function to grab data from a resource url\n",
    "def getdata(url):\n",
    "    try:\n",
    "        response=requests.get(url)\n",
    "        return response.json()\n",
    "    except:\n",
    "        return response.status_code"
   ]
  },
  {
   "cell_type": "markdown",
   "metadata": {},
   "source": [
    "### Using the above function, get the cctv data."
   ]
  },
  {
   "cell_type": "code",
   "execution_count": 6,
   "metadata": {},
   "outputs": [],
   "source": [
    "# get data from ca.gov api explorer\n",
    "cctv=getdata('https://caltrans-gis.dot.ca.gov/arcgis/rest/services/CHhighway/CCTV/FeatureServer/0/query?where=1%3D1&outFields=*&outSR=4326&f=json')"
   ]
  },
  {
   "cell_type": "markdown",
   "metadata": {},
   "source": [
    "## JSON Data Format\n",
    "\n",
    "Most APIs return data in **JSON** (JavaScript Object Notation).  \n",
    "It often looks like a **dictionary** with keys and values.\n",
    "\n",
    "Example:\n",
    "\n",
    "```json\n",
    "{\n",
    "  \"fields\": [...],\n",
    "  \"features\": [\n",
    "    { \"attributes\": {...}, \"geometry\": {...} },\n",
    "    { \"attributes\": {...}, \"geometry\": {...} }\n",
    "  ]\n",
    "}\n"
   ]
  },
  {
   "cell_type": "code",
   "execution_count": 13,
   "metadata": {},
   "outputs": [
    {
     "data": {
      "text/plain": [
       "dict"
      ]
     },
     "execution_count": 13,
     "metadata": {},
     "output_type": "execute_result"
    }
   ],
   "source": [
    "type(cctv)"
   ]
  },
  {
   "cell_type": "code",
   "execution_count": 8,
   "metadata": {},
   "outputs": [
    {
     "data": {
      "text/plain": [
       "dict_keys(['objectIdFieldName', 'globalIdFieldName', 'geometryType', 'spatialReference', 'fields', 'features', 'exceededTransferLimit'])"
      ]
     },
     "execution_count": 8,
     "metadata": {},
     "output_type": "execute_result"
    }
   ],
   "source": [
    "# view the data\n",
    "cctv.keys()"
   ]
  },
  {
   "cell_type": "code",
   "execution_count": 9,
   "metadata": {},
   "outputs": [
    {
     "data": {
      "text/plain": [
       "{'attributes': {'OBJECTID': 1,\n",
       "  'index_': 1,\n",
       "  'recordDate': 1626912000000,\n",
       "  'recordTime': '06:50:03',\n",
       "  'recordEpoch': 1626961803,\n",
       "  'district': 1,\n",
       "  'locationName': 'SR-20 : At SR-1 - Looking East (C020)',\n",
       "  'nearbyPlace': 'Fort Bragg',\n",
       "  'longitude': -123.80779,\n",
       "  'latitude': 39.42002,\n",
       "  'elevation': 95.0,\n",
       "  'direction': 'East',\n",
       "  'county': 'Mendocino',\n",
       "  'route': 'SR-20',\n",
       "  'routeSuffix': None,\n",
       "  'postmilePrefix': 'R',\n",
       "  'postmile': 0.01,\n",
       "  'Postmile_Suffix': None,\n",
       "  'Odometer': 0.01,\n",
       "  'inService': 'True',\n",
       "  'imageDescription': None,\n",
       "  'streamingVideoURL': None,\n",
       "  'currentImageUpdateFrequency': '15',\n",
       "  'currentImageURL': 'https://cwwp2.dot.ca.gov/data/d1/cctv/image/sr20atsr1lookingeast/sr20atsr1lookingeast.jpg'},\n",
       " 'geometry': {'x': -123.80778999963576, 'y': 39.42002000007047}}"
      ]
     },
     "execution_count": 9,
     "metadata": {},
     "output_type": "execute_result"
    }
   ],
   "source": [
    "# view first item in features key\n",
    "cctv['features'][0]"
   ]
  },
  {
   "cell_type": "markdown",
   "metadata": {},
   "source": [
    "Search the cctv json data which will be in a dictionary format. We will need to get the 'features' data."
   ]
  },
  {
   "cell_type": "code",
   "execution_count": 10,
   "metadata": {},
   "outputs": [],
   "source": [
    "# make a list of dictionaries that include cctv 'features'\n",
    "features=[dict['attributes'] for dict in cctv['features']]"
   ]
  },
  {
   "cell_type": "code",
   "execution_count": 11,
   "metadata": {},
   "outputs": [],
   "source": [
    "# create a dataframe from the lsit of dictionaries\n",
    "cctvdf=pd.DataFrame.from_records(features)"
   ]
  },
  {
   "cell_type": "code",
   "execution_count": 12,
   "metadata": {},
   "outputs": [
    {
     "data": {
      "text/html": [
       "<div>\n",
       "<style scoped>\n",
       "    .dataframe tbody tr th:only-of-type {\n",
       "        vertical-align: middle;\n",
       "    }\n",
       "\n",
       "    .dataframe tbody tr th {\n",
       "        vertical-align: top;\n",
       "    }\n",
       "\n",
       "    .dataframe thead th {\n",
       "        text-align: right;\n",
       "    }\n",
       "</style>\n",
       "<table border=\"1\" class=\"dataframe\">\n",
       "  <thead>\n",
       "    <tr style=\"text-align: right;\">\n",
       "      <th></th>\n",
       "      <th>OBJECTID</th>\n",
       "      <th>index_</th>\n",
       "      <th>recordDate</th>\n",
       "      <th>recordTime</th>\n",
       "      <th>recordEpoch</th>\n",
       "      <th>district</th>\n",
       "      <th>locationName</th>\n",
       "      <th>nearbyPlace</th>\n",
       "      <th>longitude</th>\n",
       "      <th>latitude</th>\n",
       "      <th>...</th>\n",
       "      <th>routeSuffix</th>\n",
       "      <th>postmilePrefix</th>\n",
       "      <th>postmile</th>\n",
       "      <th>Postmile_Suffix</th>\n",
       "      <th>Odometer</th>\n",
       "      <th>inService</th>\n",
       "      <th>imageDescription</th>\n",
       "      <th>streamingVideoURL</th>\n",
       "      <th>currentImageUpdateFrequency</th>\n",
       "      <th>currentImageURL</th>\n",
       "    </tr>\n",
       "  </thead>\n",
       "  <tbody>\n",
       "    <tr>\n",
       "      <th>0</th>\n",
       "      <td>1</td>\n",
       "      <td>1</td>\n",
       "      <td>1626912000000</td>\n",
       "      <td>06:50:03</td>\n",
       "      <td>1626961803</td>\n",
       "      <td>1</td>\n",
       "      <td>SR-20 : At SR-1 - Looking East (C020)</td>\n",
       "      <td>Fort Bragg</td>\n",
       "      <td>-123.80779</td>\n",
       "      <td>39.42002</td>\n",
       "      <td>...</td>\n",
       "      <td>None</td>\n",
       "      <td>R</td>\n",
       "      <td>0.01</td>\n",
       "      <td>None</td>\n",
       "      <td>0.01</td>\n",
       "      <td>True</td>\n",
       "      <td>None</td>\n",
       "      <td>None</td>\n",
       "      <td>15</td>\n",
       "      <td>https://cwwp2.dot.ca.gov/data/d1/cctv/image/sr...</td>\n",
       "    </tr>\n",
       "    <tr>\n",
       "      <th>1</th>\n",
       "      <td>2</td>\n",
       "      <td>9</td>\n",
       "      <td>1715040000000</td>\n",
       "      <td>09:43:18</td>\n",
       "      <td>1715100198</td>\n",
       "      <td>1</td>\n",
       "      <td>SR-20 : West Of US-101 - Looking East (C007)</td>\n",
       "      <td>Willits</td>\n",
       "      <td>-123.36904</td>\n",
       "      <td>39.40581</td>\n",
       "      <td>...</td>\n",
       "      <td>None</td>\n",
       "      <td>None</td>\n",
       "      <td>32.21</td>\n",
       "      <td>None</td>\n",
       "      <td>32.16</td>\n",
       "      <td>True</td>\n",
       "      <td>None</td>\n",
       "      <td>None</td>\n",
       "      <td>10</td>\n",
       "      <td>https://cwwp2.dot.ca.gov/data/d1/cctv/image/sr...</td>\n",
       "    </tr>\n",
       "    <tr>\n",
       "      <th>2</th>\n",
       "      <td>3</td>\n",
       "      <td>11</td>\n",
       "      <td>1715040000000</td>\n",
       "      <td>09:43:32</td>\n",
       "      <td>1715100212</td>\n",
       "      <td>1</td>\n",
       "      <td>SR-20 : West Of US-101 - Looking West (C007)</td>\n",
       "      <td>Willits</td>\n",
       "      <td>-123.36904</td>\n",
       "      <td>39.40581</td>\n",
       "      <td>...</td>\n",
       "      <td>None</td>\n",
       "      <td>None</td>\n",
       "      <td>32.21</td>\n",
       "      <td>None</td>\n",
       "      <td>32.16</td>\n",
       "      <td>True</td>\n",
       "      <td>None</td>\n",
       "      <td>None</td>\n",
       "      <td>10</td>\n",
       "      <td>https://cwwp2.dot.ca.gov/data/d1/cctv/image/sr...</td>\n",
       "    </tr>\n",
       "    <tr>\n",
       "      <th>3</th>\n",
       "      <td>4</td>\n",
       "      <td>14</td>\n",
       "      <td>1728864000000</td>\n",
       "      <td>11:45:55</td>\n",
       "      <td>1728931555</td>\n",
       "      <td>1</td>\n",
       "      <td>SR-20 : East Of US-101 - Looking East (C006)</td>\n",
       "      <td>Ukiah</td>\n",
       "      <td>-123.16703</td>\n",
       "      <td>39.23780</td>\n",
       "      <td>...</td>\n",
       "      <td>None</td>\n",
       "      <td>None</td>\n",
       "      <td>35.68</td>\n",
       "      <td>None</td>\n",
       "      <td>35.57</td>\n",
       "      <td>True</td>\n",
       "      <td>None</td>\n",
       "      <td>None</td>\n",
       "      <td>15</td>\n",
       "      <td>https://cwwp2.dot.ca.gov/data/d1/cctv/image/sr...</td>\n",
       "    </tr>\n",
       "    <tr>\n",
       "      <th>4</th>\n",
       "      <td>5</td>\n",
       "      <td>16</td>\n",
       "      <td>1728864000000</td>\n",
       "      <td>11:46:11</td>\n",
       "      <td>1728931571</td>\n",
       "      <td>1</td>\n",
       "      <td>SR-20 : East Of US-101 - Looking West (C006)</td>\n",
       "      <td>Ukiah</td>\n",
       "      <td>-123.16703</td>\n",
       "      <td>39.23780</td>\n",
       "      <td>...</td>\n",
       "      <td>None</td>\n",
       "      <td>None</td>\n",
       "      <td>35.68</td>\n",
       "      <td>None</td>\n",
       "      <td>35.57</td>\n",
       "      <td>True</td>\n",
       "      <td>None</td>\n",
       "      <td>None</td>\n",
       "      <td>15</td>\n",
       "      <td>https://cwwp2.dot.ca.gov/data/d1/cctv/image/sr...</td>\n",
       "    </tr>\n",
       "  </tbody>\n",
       "</table>\n",
       "<p>5 rows × 24 columns</p>\n",
       "</div>"
      ],
      "text/plain": [
       "   OBJECTID  index_     recordDate recordTime  recordEpoch  district  \\\n",
       "0         1       1  1626912000000   06:50:03   1626961803         1   \n",
       "1         2       9  1715040000000   09:43:18   1715100198         1   \n",
       "2         3      11  1715040000000   09:43:32   1715100212         1   \n",
       "3         4      14  1728864000000   11:45:55   1728931555         1   \n",
       "4         5      16  1728864000000   11:46:11   1728931571         1   \n",
       "\n",
       "                                   locationName nearbyPlace  longitude  \\\n",
       "0         SR-20 : At SR-1 - Looking East (C020)  Fort Bragg -123.80779   \n",
       "1  SR-20 : West Of US-101 - Looking East (C007)     Willits -123.36904   \n",
       "2  SR-20 : West Of US-101 - Looking West (C007)     Willits -123.36904   \n",
       "3  SR-20 : East Of US-101 - Looking East (C006)       Ukiah -123.16703   \n",
       "4  SR-20 : East Of US-101 - Looking West (C006)       Ukiah -123.16703   \n",
       "\n",
       "   latitude  ...  routeSuffix postmilePrefix postmile Postmile_Suffix  \\\n",
       "0  39.42002  ...         None              R     0.01            None   \n",
       "1  39.40581  ...         None           None    32.21            None   \n",
       "2  39.40581  ...         None           None    32.21            None   \n",
       "3  39.23780  ...         None           None    35.68            None   \n",
       "4  39.23780  ...         None           None    35.68            None   \n",
       "\n",
       "  Odometer inService  imageDescription streamingVideoURL  \\\n",
       "0     0.01      True              None              None   \n",
       "1    32.16      True              None              None   \n",
       "2    32.16      True              None              None   \n",
       "3    35.57      True              None              None   \n",
       "4    35.57      True              None              None   \n",
       "\n",
       "   currentImageUpdateFrequency  \\\n",
       "0                           15   \n",
       "1                           10   \n",
       "2                           10   \n",
       "3                           15   \n",
       "4                           15   \n",
       "\n",
       "                                     currentImageURL  \n",
       "0  https://cwwp2.dot.ca.gov/data/d1/cctv/image/sr...  \n",
       "1  https://cwwp2.dot.ca.gov/data/d1/cctv/image/sr...  \n",
       "2  https://cwwp2.dot.ca.gov/data/d1/cctv/image/sr...  \n",
       "3  https://cwwp2.dot.ca.gov/data/d1/cctv/image/sr...  \n",
       "4  https://cwwp2.dot.ca.gov/data/d1/cctv/image/sr...  \n",
       "\n",
       "[5 rows x 24 columns]"
      ]
     },
     "execution_count": 12,
     "metadata": {},
     "output_type": "execute_result"
    }
   ],
   "source": [
    "# view dataframe\n",
    "cctvdf.head()"
   ]
  }
 ],
 "metadata": {
  "kernelspec": {
   "display_name": ".venv",
   "language": "python",
   "name": "python3"
  },
  "language_info": {
   "codemirror_mode": {
    "name": "ipython",
    "version": 3
   },
   "file_extension": ".py",
   "mimetype": "text/x-python",
   "name": "python",
   "nbconvert_exporter": "python",
   "pygments_lexer": "ipython3",
   "version": "3.10.6"
  },
  "orig_nbformat": 4
 },
 "nbformat": 4,
 "nbformat_minor": 2
}
