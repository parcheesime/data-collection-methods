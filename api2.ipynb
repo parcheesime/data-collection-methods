{
 "cells": [
  {
   "cell_type": "markdown",
   "metadata": {},
   "source": [
    "## API - with key\n",
    "- Some APIs use a key\n",
    "- Keep the Key secret\n",
    "- Limits on requests\n",
    "- Cache results"
   ]
  },
  {
   "cell_type": "code",
   "execution_count": null,
   "metadata": {},
   "outputs": [],
   "source": []
  }
 ],
 "metadata": {
  "kernelspec": {
   "display_name": "Python 3.9.13 ('venv': venv)",
   "language": "python",
   "name": "python3"
  },
  "language_info": {
   "name": "python",
   "version": "3.9.13"
  },
  "orig_nbformat": 4,
  "vscode": {
   "interpreter": {
    "hash": "e434870d48123e0d8b11402d530f0e6afd4f6f3c5b019ad6130f48225b72abdc"
   }
  }
 },
 "nbformat": 4,
 "nbformat_minor": 2
}
