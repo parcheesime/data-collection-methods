{
 "cells": [
  {
   "cell_type": "markdown",
   "metadata": {},
   "source": [
    "## API - with key\n",
    "\n",
    "For this tutorial you will need an [AccuWeather API key](https://developer.accuweather.com/getting-started)\n",
    "\n",
    "- Some APIs use a key\n",
    "- Keep the Key secret\n",
    "- Limits on requests\n",
    "- Cache results"
   ]
  },
  {
   "cell_type": "markdown",
   "metadata": {},
   "source": [
    "| Term | Description |\n",
    "| -------- | ----------- |\n",
    "| API Key |  a code used to identify and authenticate an application or user |\n",
    "| API Endpoint |  a point at which an API -- the code that allows two software programs to communicate with each other |\n",
    "| %run | magic function %run <filename> , %lsmagic|\n"
   ]
  },
  {
   "cell_type": "code",
   "execution_count": 1,
   "metadata": {},
   "outputs": [],
   "source": [
    "# import libraries\n",
    "import pandas as pd\n",
    "import requests\n",
    "%run config.py"
   ]
  },
  {
   "cell_type": "markdown",
   "metadata": {},
   "source": [
    "Define location from where you want weather data from.\n",
    "\n",
    "Form URL from Accuweather API endpoint, location and key"
   ]
  },
  {
   "cell_type": "code",
   "execution_count": 2,
   "metadata": {},
   "outputs": [],
   "source": [
    "# Search by postal code\n",
    "location='90012'"
   ]
  },
  {
   "cell_type": "code",
   "execution_count": 3,
   "metadata": {},
   "outputs": [],
   "source": [
    "# form the Response url\n",
    "wurl = 'http://dataservice.accuweather.com/locations/v1/search?q='+location+'&apikey='+KEY"
   ]
  },
  {
   "cell_type": "code",
   "execution_count": 4,
   "metadata": {},
   "outputs": [],
   "source": [
    "# function to grab data from a resource url\n",
    "def myapi(url):\n",
    "    try:\n",
    "        response=requests.get(url)\n",
    "        return response.json()\n",
    "    except:\n",
    "        return response.status_code"
   ]
  },
  {
   "cell_type": "markdown",
   "metadata": {},
   "source": [
    "Get data- \n"
   ]
  },
  {
   "cell_type": "code",
   "execution_count": 5,
   "metadata": {},
   "outputs": [],
   "source": [
    "# list of dictionaries\n",
    "aw=myapi(wurl)\n"
   ]
  },
  {
   "cell_type": "code",
   "execution_count": 6,
   "metadata": {},
   "outputs": [
    {
     "data": {
      "text/plain": [
       "[{'Version': 1,\n",
       "  'Key': '37845_PC',\n",
       "  'Type': 'PostalCode',\n",
       "  'Rank': 15,\n",
       "  'LocalizedName': 'Los Angeles',\n",
       "  'EnglishName': 'Los Angeles',\n",
       "  'PrimaryPostalCode': '90012',\n",
       "  'Region': {'ID': 'NAM',\n",
       "   'LocalizedName': 'North America',\n",
       "   'EnglishName': 'North America'},\n",
       "  'Country': {'ID': 'US',\n",
       "   'LocalizedName': 'United States',\n",
       "   'EnglishName': 'United States'},\n",
       "  'AdministrativeArea': {'ID': 'CA',\n",
       "   'LocalizedName': 'California',\n",
       "   'EnglishName': 'California',\n",
       "   'Level': 1,\n",
       "   'LocalizedType': 'State',\n",
       "   'EnglishType': 'State',\n",
       "   'CountryID': 'US'},\n",
       "  'TimeZone': {'Code': 'PDT',\n",
       "   'Name': 'America/Los_Angeles',\n",
       "   'GmtOffset': -7.0,\n",
       "   'IsDaylightSaving': True,\n",
       "   'NextOffsetChange': '2022-11-06T09:00:00Z'},\n",
       "  'GeoPosition': {'Latitude': 34.054,\n",
       "   'Longitude': -118.24,\n",
       "   'Elevation': {'Metric': {'Value': 99.0, 'Unit': 'm', 'UnitType': 5},\n",
       "    'Imperial': {'Value': 324.0, 'Unit': 'ft', 'UnitType': 0}}},\n",
       "  'IsAlias': False,\n",
       "  'ParentCity': {'Key': '347625',\n",
       "   'LocalizedName': 'Los Angeles',\n",
       "   'EnglishName': 'Los Angeles'},\n",
       "  'SupplementalAdminAreas': [{'Level': 2,\n",
       "    'LocalizedName': 'Los Angeles',\n",
       "    'EnglishName': 'Los Angeles'}],\n",
       "  'DataSets': ['AirQualityCurrentConditions',\n",
       "   'AirQualityForecasts',\n",
       "   'Alerts',\n",
       "   'DailyAirQualityForecast',\n",
       "   'DailyPollenForecast',\n",
       "   'ForecastConfidence',\n",
       "   'FutureRadar',\n",
       "   'MinuteCast',\n",
       "   'Radar']},\n",
       " {'Version': 1,\n",
       "  'Key': '187438_PC',\n",
       "  'Type': 'PostalCode',\n",
       "  'Rank': 500,\n",
       "  'LocalizedName': 'Belfort',\n",
       "  'EnglishName': 'Belfort',\n",
       "  'PrimaryPostalCode': '90012',\n",
       "  'Region': {'ID': 'EUR', 'LocalizedName': 'Europe', 'EnglishName': 'Europe'},\n",
       "  'Country': {'ID': 'FR', 'LocalizedName': 'France', 'EnglishName': 'France'},\n",
       "  'AdministrativeArea': {'ID': '90',\n",
       "   'LocalizedName': 'Territoire de Belfort',\n",
       "   'EnglishName': 'Territoire de Belfort',\n",
       "   'Level': 1,\n",
       "   'LocalizedType': 'Department',\n",
       "   'EnglishType': 'Department',\n",
       "   'CountryID': 'FR'},\n",
       "  'TimeZone': {'Code': 'CEST',\n",
       "   'Name': 'Europe/Paris',\n",
       "   'GmtOffset': 2.0,\n",
       "   'IsDaylightSaving': True,\n",
       "   'NextOffsetChange': '2022-10-30T01:00:00Z'},\n",
       "  'GeoPosition': {'Latitude': 47.633,\n",
       "   'Longitude': 6.867,\n",
       "   'Elevation': {'Metric': {'Value': 368.0, 'Unit': 'm', 'UnitType': 5},\n",
       "    'Imperial': {'Value': 1208.0, 'Unit': 'ft', 'UnitType': 0}}},\n",
       "  'IsAlias': False,\n",
       "  'SupplementalAdminAreas': [],\n",
       "  'DataSets': ['AirQualityCurrentConditions',\n",
       "   'AirQualityForecasts',\n",
       "   'Alerts',\n",
       "   'DailyPollenForecast',\n",
       "   'ForecastConfidence',\n",
       "   'FutureRadar',\n",
       "   'MinuteCast',\n",
       "   'Radar']},\n",
       " {'Version': 1,\n",
       "  'Key': '209386_PC',\n",
       "  'Type': 'PostalCode',\n",
       "  'Rank': 500,\n",
       "  'LocalizedName': 'Caccamo',\n",
       "  'EnglishName': 'Caccamo',\n",
       "  'PrimaryPostalCode': '90012',\n",
       "  'Region': {'ID': 'EUR', 'LocalizedName': 'Europe', 'EnglishName': 'Europe'},\n",
       "  'Country': {'ID': 'IT', 'LocalizedName': 'Italy', 'EnglishName': 'Italy'},\n",
       "  'AdministrativeArea': {'ID': '82',\n",
       "   'LocalizedName': 'Sicily',\n",
       "   'EnglishName': 'Sicily',\n",
       "   'Level': 1,\n",
       "   'LocalizedType': 'Autonomous Region',\n",
       "   'EnglishType': 'Autonomous Region',\n",
       "   'CountryID': 'IT'},\n",
       "  'TimeZone': {'Code': 'CEST',\n",
       "   'Name': 'Europe/Rome',\n",
       "   'GmtOffset': 2.0,\n",
       "   'IsDaylightSaving': True,\n",
       "   'NextOffsetChange': '2022-10-30T01:00:00Z'},\n",
       "  'GeoPosition': {'Latitude': 37.934,\n",
       "   'Longitude': 13.666,\n",
       "   'Elevation': {'Metric': {'Value': 554.0, 'Unit': 'm', 'UnitType': 5},\n",
       "    'Imperial': {'Value': 1816.0, 'Unit': 'ft', 'UnitType': 0}}},\n",
       "  'IsAlias': False,\n",
       "  'SupplementalAdminAreas': [],\n",
       "  'DataSets': ['AirQualityCurrentConditions',\n",
       "   'AirQualityForecasts',\n",
       "   'Alerts',\n",
       "   'DailyPollenForecast',\n",
       "   'ForecastConfidence',\n",
       "   'FutureRadar',\n",
       "   'MinuteCast']},\n",
       " {'Version': 1,\n",
       "  'Key': '209387_PC',\n",
       "  'Type': 'PostalCode',\n",
       "  'Rank': 500,\n",
       "  'LocalizedName': 'Sambuchi',\n",
       "  'EnglishName': 'Sambuchi',\n",
       "  'PrimaryPostalCode': '90012',\n",
       "  'Region': {'ID': 'EUR', 'LocalizedName': 'Europe', 'EnglishName': 'Europe'},\n",
       "  'Country': {'ID': 'IT', 'LocalizedName': 'Italy', 'EnglishName': 'Italy'},\n",
       "  'AdministrativeArea': {'ID': '82',\n",
       "   'LocalizedName': 'Sicily',\n",
       "   'EnglishName': 'Sicily',\n",
       "   'Level': 1,\n",
       "   'LocalizedType': 'Autonomous Region',\n",
       "   'EnglishType': 'Autonomous Region',\n",
       "   'CountryID': 'IT'},\n",
       "  'TimeZone': {'Code': 'CEST',\n",
       "   'Name': 'Europe/Rome',\n",
       "   'GmtOffset': 2.0,\n",
       "   'IsDaylightSaving': True,\n",
       "   'NextOffsetChange': '2022-10-30T01:00:00Z'},\n",
       "  'GeoPosition': {'Latitude': 37.871,\n",
       "   'Longitude': 13.638,\n",
       "   'Elevation': {'Metric': {'Value': 568.0, 'Unit': 'm', 'UnitType': 5},\n",
       "    'Imperial': {'Value': 1865.0, 'Unit': 'ft', 'UnitType': 0}}},\n",
       "  'IsAlias': False,\n",
       "  'SupplementalAdminAreas': [],\n",
       "  'DataSets': ['AirQualityCurrentConditions',\n",
       "   'AirQualityForecasts',\n",
       "   'Alerts',\n",
       "   'DailyPollenForecast',\n",
       "   'ForecastConfidence',\n",
       "   'FutureRadar',\n",
       "   'MinuteCast']},\n",
       " {'Version': 1,\n",
       "  'Key': '209388_PC',\n",
       "  'Type': 'PostalCode',\n",
       "  'Rank': 500,\n",
       "  'LocalizedName': 'San Giovanni Li Greci',\n",
       "  'EnglishName': 'San Giovanni Li Greci',\n",
       "  'PrimaryPostalCode': '90012',\n",
       "  'Region': {'ID': 'EUR', 'LocalizedName': 'Europe', 'EnglishName': 'Europe'},\n",
       "  'Country': {'ID': 'IT', 'LocalizedName': 'Italy', 'EnglishName': 'Italy'},\n",
       "  'AdministrativeArea': {'ID': '82',\n",
       "   'LocalizedName': 'Sicily',\n",
       "   'EnglishName': 'Sicily',\n",
       "   'Level': 1,\n",
       "   'LocalizedType': 'Autonomous Region',\n",
       "   'EnglishType': 'Autonomous Region',\n",
       "   'CountryID': 'IT'},\n",
       "  'TimeZone': {'Code': 'CEST',\n",
       "   'Name': 'Europe/Rome',\n",
       "   'GmtOffset': 2.0,\n",
       "   'IsDaylightSaving': True,\n",
       "   'NextOffsetChange': '2022-10-30T01:00:00Z'},\n",
       "  'GeoPosition': {'Latitude': 37.88,\n",
       "   'Longitude': 13.661,\n",
       "   'Elevation': {'Metric': {'Value': 568.0, 'Unit': 'm', 'UnitType': 5},\n",
       "    'Imperial': {'Value': 1865.0, 'Unit': 'ft', 'UnitType': 0}}},\n",
       "  'IsAlias': False,\n",
       "  'SupplementalAdminAreas': [],\n",
       "  'DataSets': ['AirQualityCurrentConditions',\n",
       "   'AirQualityForecasts',\n",
       "   'Alerts',\n",
       "   'DailyPollenForecast',\n",
       "   'ForecastConfidence',\n",
       "   'FutureRadar',\n",
       "   'MinuteCast']}]"
      ]
     },
     "execution_count": 6,
     "metadata": {},
     "output_type": "execute_result"
    }
   ],
   "source": [
    "# Explore the data\n",
    "aw"
   ]
  },
  {
   "cell_type": "markdown",
   "metadata": {},
   "source": [
    "Extract the location key for the Los Angelas in North America"
   ]
  },
  {
   "cell_type": "code",
   "execution_count": 7,
   "metadata": {},
   "outputs": [
    {
     "name": "stdout",
     "output_type": "stream",
     "text": [
      "37845_PC\n"
     ]
    }
   ],
   "source": [
    "# loop through the dictionary list and locate L.A.\n",
    "for d in aw:\n",
    "    for k, v in d.items():\n",
    "        if k == \"LocalizedName\" and v=='Los Angeles':\n",
    "            print(d['Key'])"
   ]
  },
  {
   "cell_type": "markdown",
   "metadata": {},
   "source": [
    "Get key by observation"
   ]
  },
  {
   "cell_type": "code",
   "execution_count": 8,
   "metadata": {},
   "outputs": [],
   "source": [
    "url2= 'http://dataservice.accuweather.com/forecasts/v1/daily/1day/37845_PC?&apikey='+KEY"
   ]
  },
  {
   "cell_type": "code",
   "execution_count": 9,
   "metadata": {},
   "outputs": [
    {
     "data": {
      "text/plain": [
       "{'Headline': {'EffectiveDate': '2022-10-01T08:00:00-07:00',\n",
       "  'EffectiveEpochDate': 1664636400,\n",
       "  'Severity': 7,\n",
       "  'Text': 'Mostly sunny this weekend',\n",
       "  'Category': '',\n",
       "  'EndDate': None,\n",
       "  'EndEpochDate': None,\n",
       "  'MobileLink': 'http://www.accuweather.com/en/us/los-angeles-ca/90012/daily-weather-forecast/37845_pc?lang=en-us',\n",
       "  'Link': 'http://www.accuweather.com/en/us/los-angeles-ca/90012/daily-weather-forecast/37845_pc?lang=en-us'},\n",
       " 'DailyForecasts': [{'Date': '2022-09-29T07:00:00-07:00',\n",
       "   'EpochDate': 1664460000,\n",
       "   'Temperature': {'Minimum': {'Value': 64.0, 'Unit': 'F', 'UnitType': 18},\n",
       "    'Maximum': {'Value': 80.0, 'Unit': 'F', 'UnitType': 18}},\n",
       "   'Day': {'Icon': 4,\n",
       "    'IconPhrase': 'Intermittent clouds',\n",
       "    'HasPrecipitation': False},\n",
       "   'Night': {'Icon': 38,\n",
       "    'IconPhrase': 'Mostly cloudy',\n",
       "    'HasPrecipitation': False},\n",
       "   'Sources': ['AccuWeather'],\n",
       "   'MobileLink': 'http://www.accuweather.com/en/us/los-angeles-ca/90012/daily-weather-forecast/37845_pc?day=1&lang=en-us',\n",
       "   'Link': 'http://www.accuweather.com/en/us/los-angeles-ca/90012/daily-weather-forecast/37845_pc?day=1&lang=en-us'}]}"
      ]
     },
     "execution_count": 9,
     "metadata": {},
     "output_type": "execute_result"
    }
   ],
   "source": [
    "# grab data from a resource url\n",
    "myapi(url2)"
   ]
  }
 ],
 "metadata": {
  "kernelspec": {
   "display_name": "Python 3.9.13 ('venv': venv)",
   "language": "python",
   "name": "python3"
  },
  "language_info": {
   "codemirror_mode": {
    "name": "ipython",
    "version": 3
   },
   "file_extension": ".py",
   "mimetype": "text/x-python",
   "name": "python",
   "nbconvert_exporter": "python",
   "pygments_lexer": "ipython3",
   "version": "3.9.13"
  },
  "orig_nbformat": 4,
  "vscode": {
   "interpreter": {
    "hash": "598d2ca25ca1a93baed3a110938ae612d9a0334101363b2424ddf733ad7b0058"
   }
  }
 },
 "nbformat": 4,
 "nbformat_minor": 2
}
