{
 "cells": [
  {
   "cell_type": "markdown",
   "metadata": {},
   "source": [
    "# Data Collection\n",
    "\n",
    "## Part 1.0:\n",
    " - scraping tables\n",
    " - viewing html content\n",
    " - Pandas\n",
    "\n",
    "This is the first in a series of web scraping tutorials.\n",
    "\n",
    "These tutorials are meant to supplement the documentation:\n",
    "[DS: Web Scraping Tutorial](https://docs.google.com/document/d/15774XE_xw7sDIjUmW95ThttgYFQ-1OVFHWpjOETNH2I/edit?usp=sharing)\n"
   ]
  },
  {
   "cell_type": "markdown",
   "metadata": {},
   "source": [
    "Part 1.0 Vocab\n",
    "\n",
    "| Term | Description |\n",
    "| -------- | ----------- |\n",
    "| Web scraping | extraction of information from a website |\n",
    "| Pandas | open source Python package that is most widely used for data science/data analysis and machine learning tasks. |\n",
    "| HTML | HyperText Markup Language, standard markup language for web page creation |\n",
    "\n",
    "\n",
    "Link used for this tutorial: [Upcoming USA Conventions](https://fancons.com/events/schedule.php?loc=us)"
   ]
  },
  {
   "cell_type": "markdown",
   "metadata": {},
   "source": [
    "> Prerequisites: Pandas Library"
   ]
  },
  {
   "cell_type": "code",
   "execution_count": 1,
   "metadata": {},
   "outputs": [],
   "source": [
    "import pandas as pd"
   ]
  },
  {
   "cell_type": "markdown",
   "metadata": {},
   "source": [
    "> Input URL"
   ]
  },
  {
   "cell_type": "code",
   "execution_count": 2,
   "metadata": {},
   "outputs": [],
   "source": [
    "# get url, create a list of tables\n",
    "url = input('Enter URL:')\n",
    "data_scraped = pd.read_html(url, match='.+')\n",
    "ds = data_scraped\n",
    "ds"
   ]
  },
  {
   "cell_type": "markdown",
   "metadata": {},
   "source": [
    "Type check"
   ]
  },
  {
   "cell_type": "code",
   "execution_count": null,
   "metadata": {},
   "outputs": [
    {
     "data": {
      "text/plain": [
       "list"
      ]
     },
     "execution_count": 3,
     "metadata": {},
     "output_type": "execute_result"
    }
   ],
   "source": [
    "# Gives a list of dataframes\n",
    "type(ds)"
   ]
  },
  {
   "cell_type": "markdown",
   "metadata": {},
   "source": [
    "> View the list"
   ]
  },
  {
   "cell_type": "code",
   "execution_count": null,
   "metadata": {},
   "outputs": [
    {
     "data": {
      "text/plain": [
       "[           0   1                                                  2\n",
       " 0      Year: NaN  Now through end of 2023 2028 2027 2026 2025 20...\n",
       " 1      Type: NaN  All • Anime • Comic • Costume • Fantasy • Film...\n",
       " 2  Location: NaN  Anywhere • North America • USA • Canada • Euro...\n",
       " 3    States: NaN  AL • AR • AZ • CA • CO • CT • DC • DE • FL • G...,\n",
       "                        Convention                           Dates  \\\n",
       " 0    Gaslight Steampunk Expo 2022  September 29 - October 2, 2022   \n",
       " 1                  BanzaiKon 2022  September 30 - October 2, 2022   \n",
       " 2                   Capclave 2022  September 30 - October 2, 2022   \n",
       " 3             Cape Comic Con 2022  September 30 - October 2, 2022   \n",
       " 4        Lone Star Game Expo 2022  September 30 - October 2, 2022   \n",
       " ..                            ...                             ...   \n",
       " 404               Miryokucon 2023  September 29 - October 1, 2023   \n",
       " 405    Anime Weekend Atlanta 2023             October 26-29, 2023   \n",
       " 406                 DerpyCon 2023             October 27-29, 2023   \n",
       " 407               Anime Iwai 2023            November 10-12, 2023   \n",
       " 408                    Convention                           Dates   \n",
       " \n",
       "                                               Location  \n",
       " 0       San Diego Marriott Mission ValleySan Diego, CA  \n",
       " 1    South Padre Island Convention Centre / Holiday...  \n",
       " 2    Hilton Washington DC/Rockville Hotel & Executi...  \n",
       " 3    Drury Plaza Hotel Cape Girardeau Conference Ce...  \n",
       " 4             Grapevine Convention CenterGrapevine, TX  \n",
       " ..                                                 ...  \n",
       " 404  Baltimore Marriott Inner Harbor at Camden Yard...  \n",
       " 405  Renaissance Atlanta Waverly Hotel & Convention...  \n",
       " 406       Hyatt Regency New BrunswickNew Brunswick, NJ  \n",
       " 407  Fort Lauderdale Marriott Coral Springs Hotel &...  \n",
       " 408                                           Location  \n",
       " \n",
       " [409 rows x 3 columns]]"
      ]
     },
     "execution_count": 4,
     "metadata": {},
     "output_type": "execute_result"
    }
   ],
   "source": [
    "ds"
   ]
  },
  {
   "cell_type": "markdown",
   "metadata": {},
   "source": [
    "View a dataframe from the list of dataframes"
   ]
  },
  {
   "cell_type": "code",
   "execution_count": null,
   "metadata": {},
   "outputs": [
    {
     "data": {
      "text/html": [
       "<div>\n",
       "<style scoped>\n",
       "    .dataframe tbody tr th:only-of-type {\n",
       "        vertical-align: middle;\n",
       "    }\n",
       "\n",
       "    .dataframe tbody tr th {\n",
       "        vertical-align: top;\n",
       "    }\n",
       "\n",
       "    .dataframe thead th {\n",
       "        text-align: right;\n",
       "    }\n",
       "</style>\n",
       "<table border=\"1\" class=\"dataframe\">\n",
       "  <thead>\n",
       "    <tr style=\"text-align: right;\">\n",
       "      <th></th>\n",
       "      <th>Convention</th>\n",
       "      <th>Dates</th>\n",
       "      <th>Location</th>\n",
       "    </tr>\n",
       "  </thead>\n",
       "  <tbody>\n",
       "    <tr>\n",
       "      <th>0</th>\n",
       "      <td>Gaslight Steampunk Expo 2022</td>\n",
       "      <td>September 29 - October 2, 2022</td>\n",
       "      <td>San Diego Marriott Mission ValleySan Diego, CA</td>\n",
       "    </tr>\n",
       "    <tr>\n",
       "      <th>1</th>\n",
       "      <td>BanzaiKon 2022</td>\n",
       "      <td>September 30 - October 2, 2022</td>\n",
       "      <td>South Padre Island Convention Centre / Holiday...</td>\n",
       "    </tr>\n",
       "    <tr>\n",
       "      <th>2</th>\n",
       "      <td>Capclave 2022</td>\n",
       "      <td>September 30 - October 2, 2022</td>\n",
       "      <td>Hilton Washington DC/Rockville Hotel &amp; Executi...</td>\n",
       "    </tr>\n",
       "    <tr>\n",
       "      <th>3</th>\n",
       "      <td>Cape Comic Con 2022</td>\n",
       "      <td>September 30 - October 2, 2022</td>\n",
       "      <td>Drury Plaza Hotel Cape Girardeau Conference Ce...</td>\n",
       "    </tr>\n",
       "    <tr>\n",
       "      <th>4</th>\n",
       "      <td>Lone Star Game Expo 2022</td>\n",
       "      <td>September 30 - October 2, 2022</td>\n",
       "      <td>Grapevine Convention CenterGrapevine, TX</td>\n",
       "    </tr>\n",
       "    <tr>\n",
       "      <th>...</th>\n",
       "      <td>...</td>\n",
       "      <td>...</td>\n",
       "      <td>...</td>\n",
       "    </tr>\n",
       "    <tr>\n",
       "      <th>404</th>\n",
       "      <td>Miryokucon 2023</td>\n",
       "      <td>September 29 - October 1, 2023</td>\n",
       "      <td>Baltimore Marriott Inner Harbor at Camden Yard...</td>\n",
       "    </tr>\n",
       "    <tr>\n",
       "      <th>405</th>\n",
       "      <td>Anime Weekend Atlanta 2023</td>\n",
       "      <td>October 26-29, 2023</td>\n",
       "      <td>Renaissance Atlanta Waverly Hotel &amp; Convention...</td>\n",
       "    </tr>\n",
       "    <tr>\n",
       "      <th>406</th>\n",
       "      <td>DerpyCon 2023</td>\n",
       "      <td>October 27-29, 2023</td>\n",
       "      <td>Hyatt Regency New BrunswickNew Brunswick, NJ</td>\n",
       "    </tr>\n",
       "    <tr>\n",
       "      <th>407</th>\n",
       "      <td>Anime Iwai 2023</td>\n",
       "      <td>November 10-12, 2023</td>\n",
       "      <td>Fort Lauderdale Marriott Coral Springs Hotel &amp;...</td>\n",
       "    </tr>\n",
       "    <tr>\n",
       "      <th>408</th>\n",
       "      <td>Convention</td>\n",
       "      <td>Dates</td>\n",
       "      <td>Location</td>\n",
       "    </tr>\n",
       "  </tbody>\n",
       "</table>\n",
       "<p>409 rows × 3 columns</p>\n",
       "</div>"
      ],
      "text/plain": [
       "                       Convention                           Dates  \\\n",
       "0    Gaslight Steampunk Expo 2022  September 29 - October 2, 2022   \n",
       "1                  BanzaiKon 2022  September 30 - October 2, 2022   \n",
       "2                   Capclave 2022  September 30 - October 2, 2022   \n",
       "3             Cape Comic Con 2022  September 30 - October 2, 2022   \n",
       "4        Lone Star Game Expo 2022  September 30 - October 2, 2022   \n",
       "..                            ...                             ...   \n",
       "404               Miryokucon 2023  September 29 - October 1, 2023   \n",
       "405    Anime Weekend Atlanta 2023             October 26-29, 2023   \n",
       "406                 DerpyCon 2023             October 27-29, 2023   \n",
       "407               Anime Iwai 2023            November 10-12, 2023   \n",
       "408                    Convention                           Dates   \n",
       "\n",
       "                                              Location  \n",
       "0       San Diego Marriott Mission ValleySan Diego, CA  \n",
       "1    South Padre Island Convention Centre / Holiday...  \n",
       "2    Hilton Washington DC/Rockville Hotel & Executi...  \n",
       "3    Drury Plaza Hotel Cape Girardeau Conference Ce...  \n",
       "4             Grapevine Convention CenterGrapevine, TX  \n",
       "..                                                 ...  \n",
       "404  Baltimore Marriott Inner Harbor at Camden Yard...  \n",
       "405  Renaissance Atlanta Waverly Hotel & Convention...  \n",
       "406       Hyatt Regency New BrunswickNew Brunswick, NJ  \n",
       "407  Fort Lauderdale Marriott Coral Springs Hotel &...  \n",
       "408                                           Location  \n",
       "\n",
       "[409 rows x 3 columns]"
      ]
     },
     "execution_count": 5,
     "metadata": {},
     "output_type": "execute_result"
    }
   ],
   "source": [
    "# view one of the dataframes\n",
    "ds[1]"
   ]
  }
 ],
 "metadata": {
  "kernelspec": {
   "display_name": "Python 3 (ipykernel)",
   "language": "python",
   "name": "python3"
  },
  "language_info": {
   "codemirror_mode": {
    "name": "ipython",
    "version": 3
   },
   "file_extension": ".py",
   "mimetype": "text/x-python",
   "name": "python",
   "nbconvert_exporter": "python",
   "pygments_lexer": "ipython3",
   "version": "3.10.6"
  },
  "vscode": {
   "interpreter": {
    "hash": "8ad3b4ca62056b0ddf6609e8c0d475b5225220fb28d68e3e23627eb1e1c7d9eb"
   }
  }
 },
 "nbformat": 4,
 "nbformat_minor": 2
}
