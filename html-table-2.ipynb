{
 "cells": [
  {
   "cell_type": "markdown",
   "metadata": {},
   "source": [
    "# Web Scraping - Part 1.1\n",
    "### Scraping Tables from webpages\n",
    "\n",
    "Part 1.1 \n",
    "- try-except\n",
    "- write to file"
   ]
  },
  {
   "cell_type": "code",
   "execution_count": 9,
   "metadata": {},
   "outputs": [],
   "source": [
    "import pandas as pd\n",
    "ds =[]"
   ]
  },
  {
   "cell_type": "markdown",
   "metadata": {},
   "source": [
    "If an error occurs, print message, otherwise run program."
   ]
  },
  {
   "cell_type": "code",
   "execution_count": 10,
   "metadata": {},
   "outputs": [],
   "source": [
    "try:\n",
    "    url = input('Enter URL:')\n",
    "    ds = pd.read_html(url)\n",
    "except:\n",
    "    print(\"A problem occured with your link\")\n"
   ]
  },
  {
   "cell_type": "markdown",
   "metadata": {},
   "source": [
    "The scarped data is a list of the tables on the site and it's data."
   ]
  },
  {
   "cell_type": "code",
   "execution_count": 11,
   "metadata": {},
   "outputs": [
    {
     "data": {
      "text/plain": [
       "[                  0                                                  1\n",
       " 0       Flower name                                           Meanings\n",
       " 1               NaN                                                NaN\n",
       " 2         Amaryllis                                   Pastoral poetry.\n",
       " 3             Aster                       Daintiness & love. Fidelity.\n",
       " 4            Azalea     Take care of yourself for me. Fragile passion.\n",
       " ..              ...                                                ...\n",
       " 62  Tulip (general)                   Gift from a perfect lover. Love.\n",
       " 63      Tulip (red)  Irresistible love. Believe me. Declaration of ...\n",
       " 64   Tulip (yellow)                                     Hopeless love.\n",
       " 65           Violet                             Faithfulness. Modesty.\n",
       " 66   Zinnia (mixed)                      Thinking of an absent friend.\n",
       " \n",
       " [67 rows x 2 columns]]"
      ]
     },
     "execution_count": 11,
     "metadata": {},
     "output_type": "execute_result"
    }
   ],
   "source": [
    "ds"
   ]
  },
  {
   "cell_type": "code",
   "execution_count": 15,
   "metadata": {},
   "outputs": [
    {
     "data": {
      "text/html": [
       "<div>\n",
       "<style scoped>\n",
       "    .dataframe tbody tr th:only-of-type {\n",
       "        vertical-align: middle;\n",
       "    }\n",
       "\n",
       "    .dataframe tbody tr th {\n",
       "        vertical-align: top;\n",
       "    }\n",
       "\n",
       "    .dataframe thead th {\n",
       "        text-align: right;\n",
       "    }\n",
       "</style>\n",
       "<table border=\"1\" class=\"dataframe\">\n",
       "  <thead>\n",
       "    <tr style=\"text-align: right;\">\n",
       "      <th></th>\n",
       "      <th>0</th>\n",
       "      <th>1</th>\n",
       "    </tr>\n",
       "  </thead>\n",
       "  <tbody>\n",
       "    <tr>\n",
       "      <th>0</th>\n",
       "      <td>Flower name</td>\n",
       "      <td>Meanings</td>\n",
       "    </tr>\n",
       "    <tr>\n",
       "      <th>1</th>\n",
       "      <td>NaN</td>\n",
       "      <td>NaN</td>\n",
       "    </tr>\n",
       "    <tr>\n",
       "      <th>2</th>\n",
       "      <td>Amaryllis</td>\n",
       "      <td>Pastoral poetry.</td>\n",
       "    </tr>\n",
       "    <tr>\n",
       "      <th>3</th>\n",
       "      <td>Aster</td>\n",
       "      <td>Daintiness &amp; love. Fidelity.</td>\n",
       "    </tr>\n",
       "    <tr>\n",
       "      <th>4</th>\n",
       "      <td>Azalea</td>\n",
       "      <td>Take care of yourself for me. Fragile passion.</td>\n",
       "    </tr>\n",
       "    <tr>\n",
       "      <th>...</th>\n",
       "      <td>...</td>\n",
       "      <td>...</td>\n",
       "    </tr>\n",
       "    <tr>\n",
       "      <th>62</th>\n",
       "      <td>Tulip (general)</td>\n",
       "      <td>Gift from a perfect lover. Love.</td>\n",
       "    </tr>\n",
       "    <tr>\n",
       "      <th>63</th>\n",
       "      <td>Tulip (red)</td>\n",
       "      <td>Irresistible love. Believe me. Declaration of ...</td>\n",
       "    </tr>\n",
       "    <tr>\n",
       "      <th>64</th>\n",
       "      <td>Tulip (yellow)</td>\n",
       "      <td>Hopeless love.</td>\n",
       "    </tr>\n",
       "    <tr>\n",
       "      <th>65</th>\n",
       "      <td>Violet</td>\n",
       "      <td>Faithfulness. Modesty.</td>\n",
       "    </tr>\n",
       "    <tr>\n",
       "      <th>66</th>\n",
       "      <td>Zinnia (mixed)</td>\n",
       "      <td>Thinking of an absent friend.</td>\n",
       "    </tr>\n",
       "  </tbody>\n",
       "</table>\n",
       "<p>67 rows × 2 columns</p>\n",
       "</div>"
      ],
      "text/plain": [
       "                  0                                                  1\n",
       "0       Flower name                                           Meanings\n",
       "1               NaN                                                NaN\n",
       "2         Amaryllis                                   Pastoral poetry.\n",
       "3             Aster                       Daintiness & love. Fidelity.\n",
       "4            Azalea     Take care of yourself for me. Fragile passion.\n",
       "..              ...                                                ...\n",
       "62  Tulip (general)                   Gift from a perfect lover. Love.\n",
       "63      Tulip (red)  Irresistible love. Believe me. Declaration of ...\n",
       "64   Tulip (yellow)                                     Hopeless love.\n",
       "65           Violet                             Faithfulness. Modesty.\n",
       "66   Zinnia (mixed)                      Thinking of an absent friend.\n",
       "\n",
       "[67 rows x 2 columns]"
      ]
     },
     "execution_count": 15,
     "metadata": {},
     "output_type": "execute_result"
    }
   ],
   "source": [
    "ds[0]"
   ]
  },
  {
   "cell_type": "markdown",
   "metadata": {},
   "source": [
    "> Put dataframe into a csv file"
   ]
  },
  {
   "cell_type": "code",
   "execution_count": 17,
   "metadata": {},
   "outputs": [],
   "source": [
    "ds[0].to_csv('out_file.csv')"
   ]
  }
 ],
 "metadata": {
  "kernelspec": {
   "display_name": "Python 3.9.13 64-bit (windows store)",
   "language": "python",
   "name": "python3"
  },
  "language_info": {
   "codemirror_mode": {
    "name": "ipython",
    "version": 3
   },
   "file_extension": ".py",
   "mimetype": "text/x-python",
   "name": "python",
   "nbconvert_exporter": "python",
   "pygments_lexer": "ipython3",
   "version": "3.9.13"
  },
  "orig_nbformat": 4,
  "vscode": {
   "interpreter": {
    "hash": "8ad3b4ca62056b0ddf6609e8c0d475b5225220fb28d68e3e23627eb1e1c7d9eb"
   }
  }
 },
 "nbformat": 4,
 "nbformat_minor": 2
}
