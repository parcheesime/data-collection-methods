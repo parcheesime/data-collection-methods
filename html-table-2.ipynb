{
 "cells": [
  {
   "cell_type": "markdown",
   "metadata": {},
   "source": [
    "# Web Scraping - Part 1.1\n",
    "### Scraping Tables from webpages\n",
    "\n",
    "Part 1.1 \n",
    "- try-except\n",
    "- write to file\n",
    "\n",
    "Table scrapped:\n",
    "\n",
    "[Pokemon Go type chart](https://www.eurogamer.net/pokemon-go-type-chart-effectiveness-weaknesses)"
   ]
  },
  {
   "cell_type": "code",
   "execution_count": 1,
   "metadata": {},
   "outputs": [],
   "source": [
    "import pandas as pd\n",
    "ds =[]"
   ]
  },
  {
   "cell_type": "markdown",
   "metadata": {},
   "source": [
    "If an error occurs, print message, otherwise run program."
   ]
  },
  {
   "cell_type": "code",
   "execution_count": 2,
   "metadata": {},
   "outputs": [],
   "source": [
    "try:\n",
    "    url = input('Enter URL:')\n",
    "    ds = pd.read_html(url)\n",
    "except:\n",
    "    print(\"A problem occured with your link\")\n"
   ]
  },
  {
   "cell_type": "markdown",
   "metadata": {},
   "source": [
    "The scarped data is a list of the tables on the site and it's data."
   ]
  },
  {
   "cell_type": "code",
   "execution_count": 3,
   "metadata": {},
   "outputs": [
    {
     "data": {
      "text/plain": [
       "[          0                       1               2               3\n",
       " 0       NaN                     NaN  Eastern Time *          UTC **\n",
       " 1    1995.0                     NaN             NaN             NaN\n",
       " 2       NaN          Vernal Equinox   3/20/95 21:14    3/21/95 2:14\n",
       " 3       NaN   First Third of Spring   4/20/95 19:20    4/21/95 0:20\n",
       " 4       NaN              Mid-Spring     5/6/95 7:24    5/6/95 11:24\n",
       " ..      ...                     ...             ...             ...\n",
       " 547     NaN   First Third of Autumn  10/21/25 18:54  10/21/25 22:54\n",
       " 548     NaN              Mid-Autumn  11/05/25 17:22  11/05/25 22:22\n",
       " 549     NaN  Second Third of Autumn  11/20/25 16:49  11/20/25 21:49\n",
       " 550     NaN         Winter Solstice  12/21/25 10:03  12/21/25 15:03\n",
       " 551     NaN                     NaN             NaN             NaN\n",
       " \n",
       " [552 rows x 4 columns]]"
      ]
     },
     "execution_count": 3,
     "metadata": {},
     "output_type": "execute_result"
    }
   ],
   "source": [
    "ds"
   ]
  },
  {
   "cell_type": "markdown",
   "metadata": {},
   "source": [
    "View the first table"
   ]
  },
  {
   "cell_type": "code",
   "execution_count": 4,
   "metadata": {},
   "outputs": [
    {
     "data": {
      "text/html": [
       "<div>\n",
       "<style scoped>\n",
       "    .dataframe tbody tr th:only-of-type {\n",
       "        vertical-align: middle;\n",
       "    }\n",
       "\n",
       "    .dataframe tbody tr th {\n",
       "        vertical-align: top;\n",
       "    }\n",
       "\n",
       "    .dataframe thead th {\n",
       "        text-align: right;\n",
       "    }\n",
       "</style>\n",
       "<table border=\"1\" class=\"dataframe\">\n",
       "  <thead>\n",
       "    <tr style=\"text-align: right;\">\n",
       "      <th></th>\n",
       "      <th>0</th>\n",
       "      <th>1</th>\n",
       "      <th>2</th>\n",
       "      <th>3</th>\n",
       "    </tr>\n",
       "  </thead>\n",
       "  <tbody>\n",
       "    <tr>\n",
       "      <th>0</th>\n",
       "      <td>NaN</td>\n",
       "      <td>NaN</td>\n",
       "      <td>Eastern Time *</td>\n",
       "      <td>UTC **</td>\n",
       "    </tr>\n",
       "    <tr>\n",
       "      <th>1</th>\n",
       "      <td>1995.0</td>\n",
       "      <td>NaN</td>\n",
       "      <td>NaN</td>\n",
       "      <td>NaN</td>\n",
       "    </tr>\n",
       "    <tr>\n",
       "      <th>2</th>\n",
       "      <td>NaN</td>\n",
       "      <td>Vernal Equinox</td>\n",
       "      <td>3/20/95 21:14</td>\n",
       "      <td>3/21/95 2:14</td>\n",
       "    </tr>\n",
       "    <tr>\n",
       "      <th>3</th>\n",
       "      <td>NaN</td>\n",
       "      <td>First Third of Spring</td>\n",
       "      <td>4/20/95 19:20</td>\n",
       "      <td>4/21/95 0:20</td>\n",
       "    </tr>\n",
       "    <tr>\n",
       "      <th>4</th>\n",
       "      <td>NaN</td>\n",
       "      <td>Mid-Spring</td>\n",
       "      <td>5/6/95 7:24</td>\n",
       "      <td>5/6/95 11:24</td>\n",
       "    </tr>\n",
       "    <tr>\n",
       "      <th>...</th>\n",
       "      <td>...</td>\n",
       "      <td>...</td>\n",
       "      <td>...</td>\n",
       "      <td>...</td>\n",
       "    </tr>\n",
       "    <tr>\n",
       "      <th>547</th>\n",
       "      <td>NaN</td>\n",
       "      <td>First Third of Autumn</td>\n",
       "      <td>10/21/25 18:54</td>\n",
       "      <td>10/21/25 22:54</td>\n",
       "    </tr>\n",
       "    <tr>\n",
       "      <th>548</th>\n",
       "      <td>NaN</td>\n",
       "      <td>Mid-Autumn</td>\n",
       "      <td>11/05/25 17:22</td>\n",
       "      <td>11/05/25 22:22</td>\n",
       "    </tr>\n",
       "    <tr>\n",
       "      <th>549</th>\n",
       "      <td>NaN</td>\n",
       "      <td>Second Third of Autumn</td>\n",
       "      <td>11/20/25 16:49</td>\n",
       "      <td>11/20/25 21:49</td>\n",
       "    </tr>\n",
       "    <tr>\n",
       "      <th>550</th>\n",
       "      <td>NaN</td>\n",
       "      <td>Winter Solstice</td>\n",
       "      <td>12/21/25 10:03</td>\n",
       "      <td>12/21/25 15:03</td>\n",
       "    </tr>\n",
       "    <tr>\n",
       "      <th>551</th>\n",
       "      <td>NaN</td>\n",
       "      <td>NaN</td>\n",
       "      <td>NaN</td>\n",
       "      <td>NaN</td>\n",
       "    </tr>\n",
       "  </tbody>\n",
       "</table>\n",
       "<p>552 rows × 4 columns</p>\n",
       "</div>"
      ],
      "text/plain": [
       "          0                       1               2               3\n",
       "0       NaN                     NaN  Eastern Time *          UTC **\n",
       "1    1995.0                     NaN             NaN             NaN\n",
       "2       NaN          Vernal Equinox   3/20/95 21:14    3/21/95 2:14\n",
       "3       NaN   First Third of Spring   4/20/95 19:20    4/21/95 0:20\n",
       "4       NaN              Mid-Spring     5/6/95 7:24    5/6/95 11:24\n",
       "..      ...                     ...             ...             ...\n",
       "547     NaN   First Third of Autumn  10/21/25 18:54  10/21/25 22:54\n",
       "548     NaN              Mid-Autumn  11/05/25 17:22  11/05/25 22:22\n",
       "549     NaN  Second Third of Autumn  11/20/25 16:49  11/20/25 21:49\n",
       "550     NaN         Winter Solstice  12/21/25 10:03  12/21/25 15:03\n",
       "551     NaN                     NaN             NaN             NaN\n",
       "\n",
       "[552 rows x 4 columns]"
      ]
     },
     "execution_count": 4,
     "metadata": {},
     "output_type": "execute_result"
    }
   ],
   "source": [
    "ds[0]"
   ]
  },
  {
   "cell_type": "markdown",
   "metadata": {},
   "source": [
    "> Put dataframe into a csv file"
   ]
  },
  {
   "cell_type": "code",
   "execution_count": 5,
   "metadata": {},
   "outputs": [],
   "source": [
    "ds[0].to_csv('out.csv')"
   ]
  }
 ],
 "metadata": {
  "kernelspec": {
   "display_name": "Python 3.9.13 64-bit (windows store)",
   "language": "python",
   "name": "python3"
  },
  "language_info": {
   "codemirror_mode": {
    "name": "ipython",
    "version": 3
   },
   "file_extension": ".py",
   "mimetype": "text/x-python",
   "name": "python",
   "nbconvert_exporter": "python",
   "pygments_lexer": "ipython3",
   "version": "3.9.13"
  },
  "orig_nbformat": 4,
  "vscode": {
   "interpreter": {
    "hash": "8ad3b4ca62056b0ddf6609e8c0d475b5225220fb28d68e3e23627eb1e1c7d9eb"
   }
  }
 },
 "nbformat": 4,
 "nbformat_minor": 2
}
