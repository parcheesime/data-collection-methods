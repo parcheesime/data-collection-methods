{
 "cells": [
  {
   "cell_type": "markdown",
   "metadata": {},
   "source": [
    "# Web Scraping Part 2.0\n",
    "### Parse HTML with Beautifulsoup\n",
    "\n",
    "Part 2 expands on Part 1, but can handle data other than HTML tables.\n",
    "\n",
    "This tutorial uses the following Python packages:\n",
    "\n",
    "[Beautiful Soup](https://www.crummy.com/software/BeautifulSoup/bs4/doc/): provides a way to view source code.\n",
    "\n",
    "Requests: Use GET request method to fetch the web page.\n",
    "\n",
    "Regular expression operations - re\n",
    "\n",
    "Pages used in this tutorial: \n",
    "[Gapminder](https://www.gapminder.org/data/) "
   ]
  },
  {
   "cell_type": "markdown",
   "metadata": {},
   "source": [
    "> Get Libraries"
   ]
  },
  {
   "cell_type": "code",
   "execution_count": 1,
   "metadata": {},
   "outputs": [],
   "source": [
    "import pandas as pd\n",
    "import requests\n",
    "from bs4 import BeautifulSoup\n"
   ]
  },
  {
   "cell_type": "markdown",
   "metadata": {},
   "source": [
    "> assign url to variable, type Response"
   ]
  },
  {
   "cell_type": "code",
   "execution_count": 2,
   "metadata": {},
   "outputs": [
    {
     "data": {
      "text/plain": [
       "requests.models.Response"
      ]
     },
     "execution_count": 2,
     "metadata": {},
     "output_type": "execute_result"
    }
   ],
   "source": [
    "url = input('Enter URL: ')\n",
    "html_scraped = requests.get(url)\n",
    "type(html_scraped)"
   ]
  },
  {
   "cell_type": "markdown",
   "metadata": {},
   "source": [
    "> Create a beautifulSoup parse tree.\n",
    "\n",
    "| HTML Parsers |\n",
    "  ------------\n",
    "  | html.parser |\n",
    "  | html5lib |\n",
    "    "
   ]
  },
  {
   "cell_type": "code",
   "execution_count": 3,
   "metadata": {},
   "outputs": [],
   "source": [
    "soup = BeautifulSoup(html_scraped.text, 'html.parser')"
   ]
  },
  {
   "cell_type": "markdown",
   "metadata": {},
   "source": [
    "> View Data: Put the parse tree into a nested data structure with pretty print."
   ]
  },
  {
   "cell_type": "code",
   "execution_count": 4,
   "metadata": {},
   "outputs": [],
   "source": [
    "preti=soup.prettify()\n",
    "#preti"
   ]
  },
  {
   "cell_type": "markdown",
   "metadata": {},
   "source": [
    "4 Python objects in the parse tree to search: \n",
    "\n",
    "- Tag\n",
    "- NavigableString\n",
    "- BeautifulSoup\n",
    "- Comment"
   ]
  },
  {
   "cell_type": "markdown",
   "metadata": {},
   "source": [
    "> TAGS"
   ]
  },
  {
   "cell_type": "markdown",
   "metadata": {},
   "source": [
    "Some common methods to navigate the BeautifulSoup parse tree based on tags.\n",
    "\n",
    "| Approach | Description |\n",
    "| -------- | ----------- |\n",
    "| Dot Operator | soup.p |\n",
    "| String Filter | soup.find_all('p') |\n",
    "| List Filter | soup.find_all(['p', 'link']) |\n",
    "| Regular Expressions | Search Strings, CSS class |"
   ]
  },
  {
   "cell_type": "markdown",
   "metadata": {},
   "source": [
    "dot operator -> bs4"
   ]
  },
  {
   "cell_type": "code",
   "execution_count": 5,
   "metadata": {},
   "outputs": [
    {
     "data": {
      "text/plain": [
       "<h3>Data documentation</h3>"
      ]
     },
     "execution_count": 5,
     "metadata": {},
     "output_type": "execute_result"
    }
   ],
   "source": [
    "soup.h3"
   ]
  },
  {
   "cell_type": "markdown",
   "metadata": {},
   "source": [
    "string filter -> list"
   ]
  },
  {
   "cell_type": "code",
   "execution_count": 6,
   "metadata": {},
   "outputs": [
    {
     "data": {
      "text/plain": [
       "[]"
      ]
     },
     "execution_count": 6,
     "metadata": {},
     "output_type": "execute_result"
    }
   ],
   "source": [
    "soup.find_all('b')\n"
   ]
  },
  {
   "cell_type": "markdown",
   "metadata": {},
   "source": [
    "list filter -> list"
   ]
  },
  {
   "cell_type": "code",
   "execution_count": 7,
   "metadata": {},
   "outputs": [
    {
     "data": {
      "text/plain": [
       "[]"
      ]
     },
     "execution_count": 7,
     "metadata": {},
     "output_type": "execute_result"
    }
   ],
   "source": [
    "soup.find_all(['h2', 'b'])"
   ]
  },
  {
   "cell_type": "markdown",
   "metadata": {},
   "source": [
    "other filters"
   ]
  },
  {
   "cell_type": "code",
   "execution_count": 8,
   "metadata": {},
   "outputs": [
    {
     "data": {
      "text/plain": [
       "[]"
      ]
     },
     "execution_count": 8,
     "metadata": {},
     "output_type": "execute_result"
    }
   ],
   "source": [
    "btag = soup.find_all('b')\n",
    "bpara = [ b.parent for b in btag]\n",
    "bpara"
   ]
  },
  {
   "cell_type": "markdown",
   "metadata": {},
   "source": [
    "## Web Scraping with BeautifulSoup Part 2.1"
   ]
  },
  {
   "cell_type": "markdown",
   "metadata": {},
   "source": [
    "Scraping and working with links to data.\n",
    "- parse tree and string(text) format.\n",
    "\n",
    "- filtering the text with get(). "
   ]
  },
  {
   "cell_type": "markdown",
   "metadata": {},
   "source": [
    "> Search for files on web page"
   ]
  },
  {
   "cell_type": "code",
   "execution_count": 9,
   "metadata": {},
   "outputs": [],
   "source": [
    "import re"
   ]
  },
  {
   "cell_type": "code",
   "execution_count": 10,
   "metadata": {},
   "outputs": [],
   "source": [
    "#soup.find_all(re.compile('^li'))"
   ]
  },
  {
   "cell_type": "code",
   "execution_count": 29,
   "metadata": {},
   "outputs": [],
   "source": [
    "file_type='documentation'"
   ]
  },
  {
   "cell_type": "code",
   "execution_count": null,
   "metadata": {},
   "outputs": [],
   "source": [
    "for link in soup.find_all('li'):\n",
    "    for a in link.find_all('a'):\n",
    "        file_link=a.get('href')\n",
    "        if file_type in file_link:\n",
    "            print(file_link)"
   ]
  },
  {
   "cell_type": "code",
   "execution_count": 32,
   "metadata": {},
   "outputs": [],
   "source": [
    "for link in soup.find_all('li'):\n",
    "    link_list= [a.get('href') for link in soup.find_all('li') for a in link.find_all('a')]\n",
    "    "
   ]
  },
  {
   "cell_type": "code",
   "execution_count": 35,
   "metadata": {},
   "outputs": [
    {
     "data": {
      "text/plain": [
       "['https://www.gapminder.org/data/documentation/',\n",
       " 'https://www.gapminder.org/data/documentation/air-accident-risk-documentation/',\n",
       " 'https://www.gapminder.org/data/documentation/gd009/',\n",
       " 'https://www.gapminder.org/data/documentation/gd008/',\n",
       " 'https://www.gapminder.org/data/documentation/leaded-gas-ban/',\n",
       " 'https://www.gapminder.org/data/documentation/caries/',\n",
       " 'https://www.gapminder.org/data/documentation/child-labour/',\n",
       " 'https://www.gapminder.org/data/documentation/gd005/',\n",
       " 'https://www.gapminder.org/data/documentation/co2/',\n",
       " 'https://www.gapminder.org/data/documentation/death-penalty/',\n",
       " 'https://www.gapminder.org/data/documentation/democracy-index/',\n",
       " 'https://www.gapminder.org/data/documentation/drownings/',\n",
       " 'https://www.gapminder.org/data/documentation/epovrate/',\n",
       " 'https://www.gapminder.org/data/documentation/quint-income-tfr/',\n",
       " 'https://www.gapminder.org/data/documentation/gd007/',\n",
       " 'https://www.gapminder.org/data/documentation/gd001/',\n",
       " 'https://www.gapminder.org/data/documentation/gini/',\n",
       " 'https://www.gapminder.org/data/documentation/guitars-per-capita/',\n",
       " 'https://www.gapminder.org/data/documentation/gd006/',\n",
       " 'https://www.gapminder.org/data/documentation/ds_hh_incomes/',\n",
       " 'https://www.gapminder.org/data/documentation/income-mountains-dataset/',\n",
       " 'https://www.gapminder.org/data/documentation/gd002/',\n",
       " 'https://www.gapminder.org/data/documentation/internet-users-documentation/',\n",
       " 'https://www.gapminder.org/data/documentation/legal-slavery/',\n",
       " 'https://www.gapminder.org/data/documentation/school-length/',\n",
       " 'https://www.gapminder.org/data/documentation/gd004/',\n",
       " 'https://www.gapminder.org/data/documentation/literacy-documentation/',\n",
       " 'https://www.gapminder.org/data/documentation/gd010/',\n",
       " 'https://www.gapminder.org/data/documentation/mean-household-income-documentation/',\n",
       " 'https://www.gapminder.org/data/documentation/method/',\n",
       " 'https://www.gapminder.org/data/documentation/method/technical/',\n",
       " 'https://www.gapminder.org/data/documentation/feature-films/',\n",
       " 'https://www.gapminder.org/data/documentation/gd003/',\n",
       " 'https://www.gapminder.org/data/documentation/road-deaths/',\n",
       " 'https://www.gapminder.org/data/documentation/split-by-religion/',\n",
       " 'https://www.gapminder.org/data/documentation/undernourishment-documentation/',\n",
       " 'https://www.gapminder.org/data/documentation/vaccination/',\n",
       " 'https://www.gapminder.org/data/documentation/west-and-rest/',\n",
       " 'https://www.gapminder.org/data/documentation/women-vote/',\n",
       " 'https://www.gapminder.org/data/documentation/gd000/',\n",
       " 'https://www.gapminder.org/data/documentation/',\n",
       " 'https://www.gapminder.org/data/documentation/air-accident-risk-documentation/',\n",
       " 'https://www.gapminder.org/data/documentation/gd009/',\n",
       " 'https://www.gapminder.org/data/documentation/gd008/',\n",
       " 'https://www.gapminder.org/data/documentation/leaded-gas-ban/',\n",
       " 'https://www.gapminder.org/data/documentation/caries/',\n",
       " 'https://www.gapminder.org/data/documentation/child-labour/',\n",
       " 'https://www.gapminder.org/data/documentation/gd005/',\n",
       " 'https://www.gapminder.org/data/documentation/co2/',\n",
       " 'https://www.gapminder.org/data/documentation/death-penalty/',\n",
       " 'https://www.gapminder.org/data/documentation/democracy-index/',\n",
       " 'https://www.gapminder.org/data/documentation/drownings/',\n",
       " 'https://www.gapminder.org/data/documentation/epovrate/',\n",
       " 'https://www.gapminder.org/data/documentation/quint-income-tfr/',\n",
       " 'https://www.gapminder.org/data/documentation/gd007/',\n",
       " 'https://www.gapminder.org/data/documentation/gd001/',\n",
       " 'https://www.gapminder.org/data/documentation/gini/',\n",
       " 'https://www.gapminder.org/data/documentation/guitars-per-capita/',\n",
       " 'https://www.gapminder.org/data/documentation/gd006/',\n",
       " 'https://www.gapminder.org/data/documentation/ds_hh_incomes/',\n",
       " 'https://www.gapminder.org/data/documentation/income-mountains-dataset/',\n",
       " 'https://www.gapminder.org/data/documentation/gd002/',\n",
       " 'https://www.gapminder.org/data/documentation/internet-users-documentation/',\n",
       " 'https://www.gapminder.org/data/documentation/legal-slavery/',\n",
       " 'https://www.gapminder.org/data/documentation/school-length/',\n",
       " 'https://www.gapminder.org/data/documentation/gd004/',\n",
       " 'https://www.gapminder.org/data/documentation/literacy-documentation/',\n",
       " 'https://www.gapminder.org/data/documentation/gd010/',\n",
       " 'https://www.gapminder.org/data/documentation/mean-household-income-documentation/',\n",
       " 'https://www.gapminder.org/data/documentation/method/',\n",
       " 'https://www.gapminder.org/data/documentation/method/technical/',\n",
       " 'https://www.gapminder.org/data/documentation/feature-films/',\n",
       " 'https://www.gapminder.org/data/documentation/gd003/',\n",
       " 'https://www.gapminder.org/data/documentation/road-deaths/',\n",
       " 'https://www.gapminder.org/data/documentation/split-by-religion/',\n",
       " 'https://www.gapminder.org/data/documentation/undernourishment-documentation/',\n",
       " 'https://www.gapminder.org/data/documentation/vaccination/',\n",
       " 'https://www.gapminder.org/data/documentation/west-and-rest/',\n",
       " 'https://www.gapminder.org/data/documentation/women-vote/',\n",
       " 'https://www.gapminder.org/data/documentation/gd000/',\n",
       " 'https://www.gapminder.org/data/documentation/air-accident-risk-documentation/',\n",
       " 'https://www.gapminder.org/data/documentation/gd009/',\n",
       " 'https://www.gapminder.org/data/documentation/gd008/',\n",
       " 'https://www.gapminder.org/data/documentation/leaded-gas-ban/',\n",
       " 'https://www.gapminder.org/data/documentation/caries/',\n",
       " 'https://www.gapminder.org/data/documentation/child-labour/',\n",
       " 'https://www.gapminder.org/data/documentation/gd005/',\n",
       " 'https://www.gapminder.org/data/documentation/co2/',\n",
       " 'https://www.gapminder.org/data/documentation/death-penalty/',\n",
       " 'https://www.gapminder.org/data/documentation/democracy-index/',\n",
       " 'https://www.gapminder.org/data/documentation/drownings/',\n",
       " 'https://www.gapminder.org/data/documentation/epovrate/',\n",
       " 'https://www.gapminder.org/data/documentation/quint-income-tfr/',\n",
       " 'https://www.gapminder.org/data/documentation/gd007/',\n",
       " 'https://www.gapminder.org/data/documentation/gd001/',\n",
       " 'https://www.gapminder.org/data/documentation/gini/',\n",
       " 'https://www.gapminder.org/data/documentation/guitars-per-capita/',\n",
       " 'https://www.gapminder.org/data/documentation/gd006/',\n",
       " 'https://www.gapminder.org/data/documentation/ds_hh_incomes/',\n",
       " 'https://www.gapminder.org/data/documentation/income-mountains-dataset/',\n",
       " 'https://www.gapminder.org/data/documentation/gd002/',\n",
       " 'https://www.gapminder.org/data/documentation/internet-users-documentation/',\n",
       " 'https://www.gapminder.org/data/documentation/legal-slavery/',\n",
       " 'https://www.gapminder.org/data/documentation/school-length/',\n",
       " 'https://www.gapminder.org/data/documentation/gd004/',\n",
       " 'https://www.gapminder.org/data/documentation/literacy-documentation/',\n",
       " 'https://www.gapminder.org/data/documentation/gd010/',\n",
       " 'https://www.gapminder.org/data/documentation/mean-household-income-documentation/',\n",
       " 'https://www.gapminder.org/data/documentation/method/',\n",
       " 'https://www.gapminder.org/data/documentation/method/technical/',\n",
       " 'https://www.gapminder.org/data/documentation/method/technical/',\n",
       " 'https://www.gapminder.org/data/documentation/feature-films/',\n",
       " 'https://www.gapminder.org/data/documentation/gd003/',\n",
       " 'https://www.gapminder.org/data/documentation/road-deaths/',\n",
       " 'https://www.gapminder.org/data/documentation/split-by-religion/',\n",
       " 'https://www.gapminder.org/data/documentation/undernourishment-documentation/',\n",
       " 'https://www.gapminder.org/data/documentation/vaccination/',\n",
       " 'https://www.gapminder.org/data/documentation/west-and-rest/',\n",
       " 'https://www.gapminder.org/data/documentation/women-vote/',\n",
       " 'https://www.gapminder.org/data/documentation/gd000/']"
      ]
     },
     "execution_count": 35,
     "metadata": {},
     "output_type": "execute_result"
    }
   ],
   "source": [
    "doc_link_list= [doc for doc in link_list if file_type in doc]\n",
    "doc_link_list"
   ]
  },
  {
   "cell_type": "markdown",
   "metadata": {},
   "source": [
    "Find tags that contain certain letters. Using ^ find tags that begin with said letter."
   ]
  },
  {
   "cell_type": "code",
   "execution_count": null,
   "metadata": {},
   "outputs": [],
   "source": [
    "soup.find_all(re.compile('^b'))"
   ]
  },
  {
   "cell_type": "code",
   "execution_count": null,
   "metadata": {},
   "outputs": [],
   "source": [
    "soup.find_all(re.compile('^img')) "
   ]
  }
 ],
 "metadata": {
  "kernelspec": {
   "display_name": "Python 3.9.13 64-bit (windows store)",
   "language": "python",
   "name": "python3"
  },
  "language_info": {
   "codemirror_mode": {
    "name": "ipython",
    "version": 3
   },
   "file_extension": ".py",
   "mimetype": "text/x-python",
   "name": "python",
   "nbconvert_exporter": "python",
   "pygments_lexer": "ipython3",
   "version": "3.9.13"
  },
  "orig_nbformat": 4,
  "vscode": {
   "interpreter": {
    "hash": "8ad3b4ca62056b0ddf6609e8c0d475b5225220fb28d68e3e23627eb1e1c7d9eb"
   }
  }
 },
 "nbformat": 4,
 "nbformat_minor": 2
}
