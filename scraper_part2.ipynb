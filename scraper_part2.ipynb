{
 "cells": [
  {
   "cell_type": "markdown",
   "metadata": {},
   "source": [
    "# Web Scraping Part 2\n",
    "### Combine Pandas & Beautifulsoup to get data from a web site\n",
    "\n",
    "Part 2 expands on Part 1, but can handle data other than HTML tables.\n",
    "\n",
    "This tutorial uses the following Python packages:\n",
    "\n",
    "[Beautiful Soup](https://www.crummy.com/software/BeautifulSoup/bs4/doc/)\n",
    "\n",
    "Requests\n",
    "\n",
    "Regular expression operations - re"
   ]
  },
  {
   "cell_type": "markdown",
   "metadata": {},
   "source": [
    "> Get Libraries"
   ]
  },
  {
   "cell_type": "code",
   "execution_count": 17,
   "metadata": {},
   "outputs": [],
   "source": [
    "import pandas as pd\n",
    "import requests\n",
    "from bs4 import BeautifulSoup"
   ]
  },
  {
   "cell_type": "markdown",
   "metadata": {},
   "source": [
    "> assign url to variable, type Response"
   ]
  },
  {
   "cell_type": "code",
   "execution_count": 18,
   "metadata": {},
   "outputs": [
    {
     "data": {
      "text/plain": [
       "requests.models.Response"
      ]
     },
     "execution_count": 18,
     "metadata": {},
     "output_type": "execute_result"
    }
   ],
   "source": [
    "url = input('Enter URL: ')\n",
    "html_scraped = requests.get(url)\n",
    "type(html_scraped)"
   ]
  },
  {
   "cell_type": "markdown",
   "metadata": {},
   "source": [
    "> Create a parse tree from text based web file"
   ]
  },
  {
   "cell_type": "code",
   "execution_count": 19,
   "metadata": {},
   "outputs": [],
   "source": [
    "soup = BeautifulSoup(html_scraped.text, 'html.parser')"
   ]
  },
  {
   "cell_type": "code",
   "execution_count": 42,
   "metadata": {},
   "outputs": [
    {
     "data": {
      "text/plain": [
       "['THE HIDDEN MEANINGS OF FLOWERS',\n",
       " 'THE MEANING OF ROSES',\n",
       " 'THE MEANING OF LILIES',\n",
       " 'THE MEANING OF CHRYSANTHEMUMS',\n",
       " 'THE MEANING OF CARNATIONS',\n",
       " 'THE MEANING OF TULIPS',\n",
       " 'THE MEANING OF SUNFLOWERS',\n",
       " 'THE MEANING OF DAHLIAS',\n",
       " 'FLOWERS THAT ARE BEST FOR BIRTHDAYS',\n",
       " 'THE BEST FLOWERS FOR AN ANNIVERSARY',\n",
       " 'THE BEST FLOWERS TO SAY CONGRATULATIONS',\n",
       " 'THE BEST FLOWERS TO SAY SORRY WITH',\n",
       " 'Get Exclusive Offers']"
      ]
     },
     "execution_count": 42,
     "metadata": {},
     "output_type": "execute_result"
    }
   ],
   "source": [
    "preti=soup.prettify()\n",
    "soup_list = list(soup.find_all('h2'))\n",
    "list_str = [h.string for h in soup_list]\n",
    "\n",
    "list_str"
   ]
  },
  {
   "cell_type": "code",
   "execution_count": 52,
   "metadata": {},
   "outputs": [
    {
     "name": "stdout",
     "output_type": "stream",
     "text": [
      "['FLOWERS']\n",
      "['ROSES']\n",
      "['LILIES']\n",
      "['CHRYSANTHEMUMS']\n",
      "['CARNATIONS']\n",
      "['TULIPS']\n",
      "['SUNFLOWERS']\n",
      "['DAHLIAS']\n",
      "[]\n",
      "[]\n",
      "[]\n",
      "[]\n",
      "[]\n"
     ]
    }
   ],
   "source": [
    "df = pd.DataFrame()\n",
    "import re\n",
    "for flower_type in list_str:\n",
    "    print(re.findall(r'(?<=OF ).*', flower_type))\n"
   ]
  }
 ],
 "metadata": {
  "kernelspec": {
   "display_name": "Python 3.9.13 64-bit (windows store)",
   "language": "python",
   "name": "python3"
  },
  "language_info": {
   "codemirror_mode": {
    "name": "ipython",
    "version": 3
   },
   "file_extension": ".py",
   "mimetype": "text/x-python",
   "name": "python",
   "nbconvert_exporter": "python",
   "pygments_lexer": "ipython3",
   "version": "3.9.13"
  },
  "orig_nbformat": 4,
  "vscode": {
   "interpreter": {
    "hash": "8ad3b4ca62056b0ddf6609e8c0d475b5225220fb28d68e3e23627eb1e1c7d9eb"
   }
  }
 },
 "nbformat": 4,
 "nbformat_minor": 2
}
