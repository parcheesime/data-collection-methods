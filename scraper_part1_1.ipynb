{
 "cells": [
  {
   "cell_type": "markdown",
   "metadata": {},
   "source": [
    "# Web Scraping - Part 1.1\n",
    "### Scraping Tables from webpages"
   ]
  },
  {
   "cell_type": "code",
   "execution_count": 11,
   "metadata": {},
   "outputs": [],
   "source": [
    "import pandas as pd"
   ]
  },
  {
   "cell_type": "markdown",
   "metadata": {},
   "source": [
    "If an error occurs, print message, otherwise run program."
   ]
  },
  {
   "cell_type": "code",
   "execution_count": 12,
   "metadata": {},
   "outputs": [],
   "source": [
    " \n",
    "try:\n",
    "    url = input('Enter URL:')\n",
    "    data_scraped = pd.read_html(url, match='.+')\n",
    "    ds = data_scraped\n",
    "except:\n",
    "    print(\"A problem occured with your link\")\n"
   ]
  },
  {
   "cell_type": "markdown",
   "metadata": {},
   "source": [
    "The scarped data is a list of the tables on the site and it's data."
   ]
  },
  {
   "cell_type": "code",
   "execution_count": 13,
   "metadata": {},
   "outputs": [
    {
     "data": {
      "text/plain": [
       "list"
      ]
     },
     "execution_count": 13,
     "metadata": {},
     "output_type": "execute_result"
    }
   ],
   "source": [
    "type(ds)"
   ]
  },
  {
   "cell_type": "code",
   "execution_count": 14,
   "metadata": {},
   "outputs": [
    {
     "data": {
      "text/plain": [
       "[           0   1                                                  2\n",
       " 0      Year: NaN  Now through end of 2023 2028 2027 2026 2025 20...\n",
       " 1      Type: NaN  All • Anime • Comic • Costume • Fantasy • Film...\n",
       " 2  Location: NaN  Anywhere • North America • USA • Canada • Euro...\n",
       " 3    States: NaN  AL • AR • AZ • CA • CO • CT • DC • DE • FL • G...,\n",
       "                                Convention                           Dates  \\\n",
       " 0                            Gen Con 2022                August 4-7, 2022   \n",
       " 1                           PulpFest 2022                August 4-7, 2022   \n",
       " 2          Sasnack City: The Kingdom 2022                August 4-7, 2022   \n",
       " 3    Super Hero Car Show & Comic Con 2022                August 4-7, 2022   \n",
       " 4                       Anime Magic! 2022                August 5-7, 2022   \n",
       " ..                                    ...                             ...   \n",
       " 485                        SC Horror 2023           September 16-17, 2023   \n",
       " 486                       Miryokucon 2023  September 29 - October 1, 2023   \n",
       " 487            Anime Weekend Atlanta 2023             October 26-29, 2023   \n",
       " 488                         DerpyCon 2023             October 27-29, 2023   \n",
       " 489                            Convention                           Dates   \n",
       " \n",
       "                                               Location  \n",
       " 0       Indianapolis Convention CenterIndianapolis, IN  \n",
       " 1    DoubleTree by Hilton Hotel Pittsburgh - Cranbe...  \n",
       " 2      National WWI Museum and MemorialKansas City, MO  \n",
       " 3          Freeman Expo Hall & ColiseumSan Antonio, TX  \n",
       " 4    Donald E. Stephens Convention Center / Hyatt R...  \n",
       " ..                                                 ...  \n",
       " 485  Columbia Metropolitan Convention CenterColumbi...  \n",
       " 486  Baltimore Marriott Inner Harbor at Camden Yard...  \n",
       " 487  Renaissance Atlanta Waverly Hotel & Convention...  \n",
       " 488       Hyatt Regency New BrunswickNew Brunswick, NJ  \n",
       " 489                                           Location  \n",
       " \n",
       " [490 rows x 3 columns]]"
      ]
     },
     "execution_count": 14,
     "metadata": {},
     "output_type": "execute_result"
    }
   ],
   "source": [
    "ds"
   ]
  },
  {
   "cell_type": "code",
   "execution_count": 21,
   "metadata": {},
   "outputs": [
    {
     "data": {
      "text/html": [
       "<div>\n",
       "<style scoped>\n",
       "    .dataframe tbody tr th:only-of-type {\n",
       "        vertical-align: middle;\n",
       "    }\n",
       "\n",
       "    .dataframe tbody tr th {\n",
       "        vertical-align: top;\n",
       "    }\n",
       "\n",
       "    .dataframe thead th {\n",
       "        text-align: right;\n",
       "    }\n",
       "</style>\n",
       "<table border=\"1\" class=\"dataframe\">\n",
       "  <thead>\n",
       "    <tr style=\"text-align: right;\">\n",
       "      <th></th>\n",
       "      <th>0</th>\n",
       "      <th>1</th>\n",
       "      <th>2</th>\n",
       "    </tr>\n",
       "  </thead>\n",
       "  <tbody>\n",
       "    <tr>\n",
       "      <th>0</th>\n",
       "      <td>Year:</td>\n",
       "      <td>NaN</td>\n",
       "      <td>Now through end of 2023 2028 2027 2026 2025 20...</td>\n",
       "    </tr>\n",
       "    <tr>\n",
       "      <th>1</th>\n",
       "      <td>Type:</td>\n",
       "      <td>NaN</td>\n",
       "      <td>All • Anime • Comic • Costume • Fantasy • Film...</td>\n",
       "    </tr>\n",
       "    <tr>\n",
       "      <th>2</th>\n",
       "      <td>Location:</td>\n",
       "      <td>NaN</td>\n",
       "      <td>Anywhere • North America • USA • Canada • Euro...</td>\n",
       "    </tr>\n",
       "    <tr>\n",
       "      <th>3</th>\n",
       "      <td>States:</td>\n",
       "      <td>NaN</td>\n",
       "      <td>AL • AR • AZ • CA • CO • CT • DC • DE • FL • G...</td>\n",
       "    </tr>\n",
       "  </tbody>\n",
       "</table>\n",
       "</div>"
      ],
      "text/plain": [
       "           0   1                                                  2\n",
       "0      Year: NaN  Now through end of 2023 2028 2027 2026 2025 20...\n",
       "1      Type: NaN  All • Anime • Comic • Costume • Fantasy • Film...\n",
       "2  Location: NaN  Anywhere • North America • USA • Canada • Euro...\n",
       "3    States: NaN  AL • AR • AZ • CA • CO • CT • DC • DE • FL • G..."
      ]
     },
     "execution_count": 21,
     "metadata": {},
     "output_type": "execute_result"
    }
   ],
   "source": [
    "ds[0]"
   ]
  },
  {
   "cell_type": "code",
   "execution_count": 16,
   "metadata": {},
   "outputs": [
    {
     "data": {
      "text/plain": [
       "pandas.core.frame.DataFrame"
      ]
     },
     "execution_count": 16,
     "metadata": {},
     "output_type": "execute_result"
    }
   ],
   "source": [
    "type(ds[1])"
   ]
  }
 ],
 "metadata": {
  "kernelspec": {
   "display_name": "Python 3.9.13 64-bit (windows store)",
   "language": "python",
   "name": "python3"
  },
  "language_info": {
   "codemirror_mode": {
    "name": "ipython",
    "version": 3
   },
   "file_extension": ".py",
   "mimetype": "text/x-python",
   "name": "python",
   "nbconvert_exporter": "python",
   "pygments_lexer": "ipython3",
   "version": "3.9.13"
  },
  "orig_nbformat": 4,
  "vscode": {
   "interpreter": {
    "hash": "8ad3b4ca62056b0ddf6609e8c0d475b5225220fb28d68e3e23627eb1e1c7d9eb"
   }
  }
 },
 "nbformat": 4,
 "nbformat_minor": 2
}
