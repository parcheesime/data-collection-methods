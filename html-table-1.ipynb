{
 "cells": [
  {
   "cell_type": "markdown",
   "metadata": {},
   "source": [
    "# Web Scraping\n",
    "\n",
    "## Part 1:\n",
    " - scraping tables\n",
    " - viewing html content\n",
    " - Pandas\n",
    "\n",
    "This is the first in a series of web scraping tutorials.\n",
    "\n",
    "These tutorials are meant to supplement the documentation:\n",
    "[DS: Web Scraping Tutorial](https://docs.google.com/document/d/15774XE_xw7sDIjUmW95ThttgYFQ-1OVFHWpjOETNH2I/edit?usp=sharing)\n"
   ]
  },
  {
   "cell_type": "markdown",
   "metadata": {},
   "source": [
    "> Prerequisites: Pandas Library"
   ]
  },
  {
   "cell_type": "code",
   "execution_count": 20,
   "metadata": {},
   "outputs": [],
   "source": [
    "import pandas as pd"
   ]
  },
  {
   "cell_type": "markdown",
   "metadata": {},
   "source": [
    "> Input URL"
   ]
  },
  {
   "cell_type": "code",
   "execution_count": 21,
   "metadata": {},
   "outputs": [
    {
     "data": {
      "text/plain": [
       "[   Color Key                                Definition\n",
       " 0  Green (1)            First BE or RP cost reduction.\n",
       " 1  Green (2)           Second BE or RP cost reduction.\n",
       " 2        Red         Upcoming BE or RP cost reduction.\n",
       " 3     Orange  Bundled in the Digital Collector's Pack.\n",
       " 4       Blue          Bundled in the Champions Bundle.,\n",
       "                         Champion            Classes Release Date Last Changed  \\\n",
       " 0         Aatroxthe Darkin Blade         Juggernaut   2013-06-13       V12.14   \n",
       " 1        Ahrithe Nine-Tailed Fox              Burst   2011-12-14       V12.10   \n",
       " 2        Akalithe Rogue Assassin           Assassin   2010-05-11       V12.15   \n",
       " 3       Akshanthe Rogue Sentinel  Marksman Assassin   2021-07-22       V12.14   \n",
       " 4            Alistarthe Minotaur           Vanguard   2009-02-21       V12.14   \n",
       " ..                           ...                ...          ...          ...   \n",
       " 156        ZeriThe Spark of Zaun           Marksman   2022-01-20       V12.16   \n",
       " 157  Ziggsthe Hexplosives Expert          Artillery   2012-02-01       V12.10   \n",
       " 158       Zileanthe Chronokeeper         Specialist   2009-04-18       V12.10   \n",
       " 159    Zoethe Aspect of Twilight              Burst   2017-11-21       V12.16   \n",
       " 160       ZyraRise of the Thorns            Catcher   2012-07-24       V12.16   \n",
       " \n",
       "      Blue Essence   RP  \n",
       " 0            4800  880  \n",
       " 1            3150  790  \n",
       " 2            3150  790  \n",
       " 3            6300  975  \n",
       " 4            1350  585  \n",
       " ..            ...  ...  \n",
       " 156          6300  975  \n",
       " 157          4800  880  \n",
       " 158          1350  585  \n",
       " 159          6300  975  \n",
       " 160          4800  880  \n",
       " \n",
       " [161 rows x 6 columns],\n",
       "                              0  \\\n",
       " 0  Champions by base statistic   \n",
       " 1           Champions by class   \n",
       " 2               Lists by skins   \n",
       " 3     Other lists of champions   \n",
       " \n",
       "                                                    1  \n",
       " 0  All base statistics (at level 1 · growth coeff...  \n",
       " 1  Controller · Fighter · Mage · Marksman · Slaye...  \n",
       " 2  Skins by skin name · Skins by champion name · ...  \n",
       " 3  Champions with client ratings · Champions by d...  ]"
      ]
     },
     "execution_count": 21,
     "metadata": {},
     "output_type": "execute_result"
    }
   ],
   "source": [
    " \n",
    "url = input('Enter URL:')\n",
    "data_scraped = pd.read_html(url, match='.+')\n",
    "ds = data_scraped\n",
    "ds"
   ]
  },
  {
   "cell_type": "markdown",
   "metadata": {},
   "source": [
    "Type check"
   ]
  },
  {
   "cell_type": "code",
   "execution_count": 22,
   "metadata": {},
   "outputs": [
    {
     "data": {
      "text/plain": [
       "list"
      ]
     },
     "execution_count": 22,
     "metadata": {},
     "output_type": "execute_result"
    }
   ],
   "source": [
    "type(ds)"
   ]
  },
  {
   "cell_type": "markdown",
   "metadata": {},
   "source": [
    "> View tables"
   ]
  },
  {
   "cell_type": "code",
   "execution_count": 23,
   "metadata": {},
   "outputs": [
    {
     "data": {
      "text/plain": [
       "[   Color Key                                Definition\n",
       " 0  Green (1)            First BE or RP cost reduction.\n",
       " 1  Green (2)           Second BE or RP cost reduction.\n",
       " 2        Red         Upcoming BE or RP cost reduction.\n",
       " 3     Orange  Bundled in the Digital Collector's Pack.\n",
       " 4       Blue          Bundled in the Champions Bundle.,\n",
       "                         Champion            Classes Release Date Last Changed  \\\n",
       " 0         Aatroxthe Darkin Blade         Juggernaut   2013-06-13       V12.14   \n",
       " 1        Ahrithe Nine-Tailed Fox              Burst   2011-12-14       V12.10   \n",
       " 2        Akalithe Rogue Assassin           Assassin   2010-05-11       V12.15   \n",
       " 3       Akshanthe Rogue Sentinel  Marksman Assassin   2021-07-22       V12.14   \n",
       " 4            Alistarthe Minotaur           Vanguard   2009-02-21       V12.14   \n",
       " ..                           ...                ...          ...          ...   \n",
       " 156        ZeriThe Spark of Zaun           Marksman   2022-01-20       V12.16   \n",
       " 157  Ziggsthe Hexplosives Expert          Artillery   2012-02-01       V12.10   \n",
       " 158       Zileanthe Chronokeeper         Specialist   2009-04-18       V12.10   \n",
       " 159    Zoethe Aspect of Twilight              Burst   2017-11-21       V12.16   \n",
       " 160       ZyraRise of the Thorns            Catcher   2012-07-24       V12.16   \n",
       " \n",
       "      Blue Essence   RP  \n",
       " 0            4800  880  \n",
       " 1            3150  790  \n",
       " 2            3150  790  \n",
       " 3            6300  975  \n",
       " 4            1350  585  \n",
       " ..            ...  ...  \n",
       " 156          6300  975  \n",
       " 157          4800  880  \n",
       " 158          1350  585  \n",
       " 159          6300  975  \n",
       " 160          4800  880  \n",
       " \n",
       " [161 rows x 6 columns],\n",
       "                              0  \\\n",
       " 0  Champions by base statistic   \n",
       " 1           Champions by class   \n",
       " 2               Lists by skins   \n",
       " 3     Other lists of champions   \n",
       " \n",
       "                                                    1  \n",
       " 0  All base statistics (at level 1 · growth coeff...  \n",
       " 1  Controller · Fighter · Mage · Marksman · Slaye...  \n",
       " 2  Skins by skin name · Skins by champion name · ...  \n",
       " 3  Champions with client ratings · Champions by d...  ]"
      ]
     },
     "execution_count": 23,
     "metadata": {},
     "output_type": "execute_result"
    }
   ],
   "source": [
    "ds"
   ]
  },
  {
   "cell_type": "markdown",
   "metadata": {},
   "source": [
    "View one of the tables"
   ]
  },
  {
   "cell_type": "code",
   "execution_count": 24,
   "metadata": {},
   "outputs": [
    {
     "data": {
      "text/html": [
       "<div>\n",
       "<style scoped>\n",
       "    .dataframe tbody tr th:only-of-type {\n",
       "        vertical-align: middle;\n",
       "    }\n",
       "\n",
       "    .dataframe tbody tr th {\n",
       "        vertical-align: top;\n",
       "    }\n",
       "\n",
       "    .dataframe thead th {\n",
       "        text-align: right;\n",
       "    }\n",
       "</style>\n",
       "<table border=\"1\" class=\"dataframe\">\n",
       "  <thead>\n",
       "    <tr style=\"text-align: right;\">\n",
       "      <th></th>\n",
       "      <th>Champion</th>\n",
       "      <th>Classes</th>\n",
       "      <th>Release Date</th>\n",
       "      <th>Last Changed</th>\n",
       "      <th>Blue Essence</th>\n",
       "      <th>RP</th>\n",
       "    </tr>\n",
       "  </thead>\n",
       "  <tbody>\n",
       "    <tr>\n",
       "      <th>0</th>\n",
       "      <td>Aatroxthe Darkin Blade</td>\n",
       "      <td>Juggernaut</td>\n",
       "      <td>2013-06-13</td>\n",
       "      <td>V12.14</td>\n",
       "      <td>4800</td>\n",
       "      <td>880</td>\n",
       "    </tr>\n",
       "    <tr>\n",
       "      <th>1</th>\n",
       "      <td>Ahrithe Nine-Tailed Fox</td>\n",
       "      <td>Burst</td>\n",
       "      <td>2011-12-14</td>\n",
       "      <td>V12.10</td>\n",
       "      <td>3150</td>\n",
       "      <td>790</td>\n",
       "    </tr>\n",
       "    <tr>\n",
       "      <th>2</th>\n",
       "      <td>Akalithe Rogue Assassin</td>\n",
       "      <td>Assassin</td>\n",
       "      <td>2010-05-11</td>\n",
       "      <td>V12.15</td>\n",
       "      <td>3150</td>\n",
       "      <td>790</td>\n",
       "    </tr>\n",
       "    <tr>\n",
       "      <th>3</th>\n",
       "      <td>Akshanthe Rogue Sentinel</td>\n",
       "      <td>Marksman Assassin</td>\n",
       "      <td>2021-07-22</td>\n",
       "      <td>V12.14</td>\n",
       "      <td>6300</td>\n",
       "      <td>975</td>\n",
       "    </tr>\n",
       "    <tr>\n",
       "      <th>4</th>\n",
       "      <td>Alistarthe Minotaur</td>\n",
       "      <td>Vanguard</td>\n",
       "      <td>2009-02-21</td>\n",
       "      <td>V12.14</td>\n",
       "      <td>1350</td>\n",
       "      <td>585</td>\n",
       "    </tr>\n",
       "    <tr>\n",
       "      <th>...</th>\n",
       "      <td>...</td>\n",
       "      <td>...</td>\n",
       "      <td>...</td>\n",
       "      <td>...</td>\n",
       "      <td>...</td>\n",
       "      <td>...</td>\n",
       "    </tr>\n",
       "    <tr>\n",
       "      <th>156</th>\n",
       "      <td>ZeriThe Spark of Zaun</td>\n",
       "      <td>Marksman</td>\n",
       "      <td>2022-01-20</td>\n",
       "      <td>V12.16</td>\n",
       "      <td>6300</td>\n",
       "      <td>975</td>\n",
       "    </tr>\n",
       "    <tr>\n",
       "      <th>157</th>\n",
       "      <td>Ziggsthe Hexplosives Expert</td>\n",
       "      <td>Artillery</td>\n",
       "      <td>2012-02-01</td>\n",
       "      <td>V12.10</td>\n",
       "      <td>4800</td>\n",
       "      <td>880</td>\n",
       "    </tr>\n",
       "    <tr>\n",
       "      <th>158</th>\n",
       "      <td>Zileanthe Chronokeeper</td>\n",
       "      <td>Specialist</td>\n",
       "      <td>2009-04-18</td>\n",
       "      <td>V12.10</td>\n",
       "      <td>1350</td>\n",
       "      <td>585</td>\n",
       "    </tr>\n",
       "    <tr>\n",
       "      <th>159</th>\n",
       "      <td>Zoethe Aspect of Twilight</td>\n",
       "      <td>Burst</td>\n",
       "      <td>2017-11-21</td>\n",
       "      <td>V12.16</td>\n",
       "      <td>6300</td>\n",
       "      <td>975</td>\n",
       "    </tr>\n",
       "    <tr>\n",
       "      <th>160</th>\n",
       "      <td>ZyraRise of the Thorns</td>\n",
       "      <td>Catcher</td>\n",
       "      <td>2012-07-24</td>\n",
       "      <td>V12.16</td>\n",
       "      <td>4800</td>\n",
       "      <td>880</td>\n",
       "    </tr>\n",
       "  </tbody>\n",
       "</table>\n",
       "<p>161 rows × 6 columns</p>\n",
       "</div>"
      ],
      "text/plain": [
       "                        Champion            Classes Release Date Last Changed  \\\n",
       "0         Aatroxthe Darkin Blade         Juggernaut   2013-06-13       V12.14   \n",
       "1        Ahrithe Nine-Tailed Fox              Burst   2011-12-14       V12.10   \n",
       "2        Akalithe Rogue Assassin           Assassin   2010-05-11       V12.15   \n",
       "3       Akshanthe Rogue Sentinel  Marksman Assassin   2021-07-22       V12.14   \n",
       "4            Alistarthe Minotaur           Vanguard   2009-02-21       V12.14   \n",
       "..                           ...                ...          ...          ...   \n",
       "156        ZeriThe Spark of Zaun           Marksman   2022-01-20       V12.16   \n",
       "157  Ziggsthe Hexplosives Expert          Artillery   2012-02-01       V12.10   \n",
       "158       Zileanthe Chronokeeper         Specialist   2009-04-18       V12.10   \n",
       "159    Zoethe Aspect of Twilight              Burst   2017-11-21       V12.16   \n",
       "160       ZyraRise of the Thorns            Catcher   2012-07-24       V12.16   \n",
       "\n",
       "     Blue Essence   RP  \n",
       "0            4800  880  \n",
       "1            3150  790  \n",
       "2            3150  790  \n",
       "3            6300  975  \n",
       "4            1350  585  \n",
       "..            ...  ...  \n",
       "156          6300  975  \n",
       "157          4800  880  \n",
       "158          1350  585  \n",
       "159          6300  975  \n",
       "160          4800  880  \n",
       "\n",
       "[161 rows x 6 columns]"
      ]
     },
     "execution_count": 24,
     "metadata": {},
     "output_type": "execute_result"
    }
   ],
   "source": [
    "ds[1]"
   ]
  },
  {
   "cell_type": "markdown",
   "metadata": {},
   "source": [
    "Type check"
   ]
  },
  {
   "cell_type": "code",
   "execution_count": 25,
   "metadata": {},
   "outputs": [
    {
     "data": {
      "text/plain": [
       "pandas.core.frame.DataFrame"
      ]
     },
     "execution_count": 25,
     "metadata": {},
     "output_type": "execute_result"
    }
   ],
   "source": [
    "type(ds[0])"
   ]
  }
 ],
 "metadata": {
  "kernelspec": {
   "display_name": "Python 3 (ipykernel)",
   "language": "python",
   "name": "python3"
  },
  "language_info": {
   "codemirror_mode": {
    "name": "ipython",
    "version": 3
   },
   "file_extension": ".py",
   "mimetype": "text/x-python",
   "name": "python",
   "nbconvert_exporter": "python",
   "pygments_lexer": "ipython3",
   "version": "3.9.13"
  },
  "vscode": {
   "interpreter": {
    "hash": "8ad3b4ca62056b0ddf6609e8c0d475b5225220fb28d68e3e23627eb1e1c7d9eb"
   }
  }
 },
 "nbformat": 4,
 "nbformat_minor": 2
}
