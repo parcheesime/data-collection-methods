{
 "cells": [
  {
   "cell_type": "markdown",
   "metadata": {},
   "source": [
    "## Webscraping with Selenium\n",
    "\n",
    "If you are scraping web pages that use JavaScript then Selenium is a good tool.\n",
    "\n",
    "What you'll need:\n",
    "\n",
    "- [Chrome Version](https://www.google.com/chrome/update/)\n",
    "- [ChromeDriver matching your version](https://chromedriver.chromium.org/downloads)\n",
    "- [Webdriver Manager](https://pypi.org/project/webdriver-manager/)\n",
    "- [Selinium](https://www.selenium.dev/downloads/)\n",
    "- [Create Virtual Environment](https://realpython.com/lessons/creating-virtual-environment/)\n",
    "- [Gitignore](https://www.toptal.com/developers/gitignore)"
   ]
  },
  {
   "cell_type": "code",
   "execution_count": 156,
   "metadata": {},
   "outputs": [],
   "source": [
    "import pandas as pd\n",
    "from selenium import webdriver\n",
    "from selenium.webdriver.chrome.options import Options\n",
    "from selenium.webdriver.chrome.service import Service"
   ]
  },
  {
   "cell_type": "code",
   "execution_count": 157,
   "metadata": {},
   "outputs": [],
   "source": [
    "# Start the Browser\n",
    "# Headless mode\n",
    "\n",
    "options = Options()\n",
    "options.headless = True\n",
    "options.add_argument('--disable-blink-features=AutomationControlled')\n",
    "\n",
    "DRIVER_PATH = Service('\\\\Users\\\\nunto\\\\drivers\\\\chromedriver.exe')\n",
    "driver = webdriver.Chrome(options=options, service=DRIVER_PATH)\n",
    "driver.get('https://www.youtube.com/channel/UCOl_a9rl1FykCd3ZO0yN6uQ')\n",
    "\n",
    "\n",
    "#print(driver.page_source)\n",
    "#driver.quit()"
   ]
  },
  {
   "cell_type": "markdown",
   "metadata": {},
   "source": [
    "- Open https://www.youtube.com/\n",
    "- Right click on page and select inspect"
   ]
  },
  {
   "cell_type": "markdown",
   "metadata": {},
   "source": [
    "[Locating Elements]('https://selenium-python.readthedocs.io/locating-elements.html') "
   ]
  },
  {
   "cell_type": "markdown",
   "metadata": {},
   "source": [
    "Locate elements on the page using find_elements"
   ]
  },
  {
   "cell_type": "code",
   "execution_count": 158,
   "metadata": {},
   "outputs": [
    {
     "data": {
      "text/plain": [
       "<selenium.webdriver.remote.webelement.WebElement (session=\"9693185a59cf9f4832c443b905d30ddc\", element=\"cb4d1a8e-7d80-4235-b849-6e1bf5a0f87e\")>"
      ]
     },
     "execution_count": 158,
     "metadata": {},
     "output_type": "execute_result"
    }
   ],
   "source": [
    "from selenium.webdriver.common.by import By\n",
    "from selenium.common.exceptions import ElementClickInterceptedException\n",
    "driver.find_element(By.TAG_NAME, 'script')"
   ]
  },
  {
   "cell_type": "markdown",
   "metadata": {},
   "source": [
    "Let's find all the videos on Hacl for LA YouTube page"
   ]
  },
  {
   "cell_type": "code",
   "execution_count": 159,
   "metadata": {},
   "outputs": [],
   "source": [
    "links= driver.find_elements(By.TAG_NAME, 'a')"
   ]
  },
  {
   "cell_type": "markdown",
   "metadata": {},
   "source": [
    "Get a list of web elements that match the locator value"
   ]
  },
  {
   "cell_type": "code",
   "execution_count": 160,
   "metadata": {},
   "outputs": [
    {
     "data": {
      "text/plain": [
       "[<selenium.webdriver.remote.webelement.WebElement (session=\"9693185a59cf9f4832c443b905d30ddc\", element=\"05baa847-9704-4868-9543-80556138a6a0\")>,\n",
       " <selenium.webdriver.remote.webelement.WebElement (session=\"9693185a59cf9f4832c443b905d30ddc\", element=\"dc6b8840-ec9d-45cf-bb35-83776f2d6e47\")>,\n",
       " <selenium.webdriver.remote.webelement.WebElement (session=\"9693185a59cf9f4832c443b905d30ddc\", element=\"effaf605-01f0-47dd-99dd-046732297a33\")>,\n",
       " <selenium.webdriver.remote.webelement.WebElement (session=\"9693185a59cf9f4832c443b905d30ddc\", element=\"31b4b331-423a-4704-9a35-7dc5942b2740\")>,\n",
       " <selenium.webdriver.remote.webelement.WebElement (session=\"9693185a59cf9f4832c443b905d30ddc\", element=\"b992b260-05f9-4066-8362-0c038f8e7a12\")>,\n",
       " <selenium.webdriver.remote.webelement.WebElement (session=\"9693185a59cf9f4832c443b905d30ddc\", element=\"960bfb8b-f25c-4380-b1fa-5c9d1e2d771e\")>,\n",
       " <selenium.webdriver.remote.webelement.WebElement (session=\"9693185a59cf9f4832c443b905d30ddc\", element=\"d01aa5eb-9f7f-40b1-bd1f-55854a4bb41b\")>,\n",
       " <selenium.webdriver.remote.webelement.WebElement (session=\"9693185a59cf9f4832c443b905d30ddc\", element=\"77b68a68-1c87-42c0-ab8a-b42203503715\")>,\n",
       " <selenium.webdriver.remote.webelement.WebElement (session=\"9693185a59cf9f4832c443b905d30ddc\", element=\"7439d8c2-6a70-4306-bed3-d2a3a3e6030e\")>,\n",
       " <selenium.webdriver.remote.webelement.WebElement (session=\"9693185a59cf9f4832c443b905d30ddc\", element=\"d980b020-2b5c-434a-8674-0b382371f1c4\")>]"
      ]
     },
     "execution_count": 160,
     "metadata": {},
     "output_type": "execute_result"
    }
   ],
   "source": [
    "links[:10]"
   ]
  },
  {
   "cell_type": "markdown",
   "metadata": {},
   "source": [
    "Create a link of possible video links, then put them in a dataframe."
   ]
  },
  {
   "cell_type": "code",
   "execution_count": 161,
   "metadata": {},
   "outputs": [],
   "source": [
    "# get a list of links\n",
    "possible_links= [link.get_attribute('href') for link in links]"
   ]
  },
  {
   "cell_type": "code",
   "execution_count": 162,
   "metadata": {},
   "outputs": [
    {
     "data": {
      "text/plain": [
       "[None,\n",
       " None,\n",
       " 'https://www.youtube.com/',\n",
       " None,\n",
       " None,\n",
       " None,\n",
       " None,\n",
       " 'https://accounts.google.com/ServiceLogin?service=youtube&uilel=3&passive=true&continue=https%3A%2F%2Fwww.youtube.com%2Fsignin%3Faction_handle_signin%3Dtrue%26app%3Ddesktop%26hl%3Den%26next%3Dhttps%253A%252F%252Fwww.youtube.com%252Fchannel%252FUCOl_a9rl1FykCd3ZO0yN6uQ&hl=en&ec=65620',\n",
       " 'https://www.youtube.com/',\n",
       " 'https://www.youtube.com/',\n",
       " 'https://www.youtube.com/feed/explore',\n",
       " None,\n",
       " 'https://www.youtube.com/feed/subscriptions',\n",
       " 'https://www.youtube.com/feed/library',\n",
       " 'https://www.youtube.com/feed/history',\n",
       " 'https://www.youtube.com/channel/null',\n",
       " None,\n",
       " 'https://www.youtube.com/redirect?event=channel_banner&redir_token=QUFFLUhqbFVJMFRzZUVHOTN1cFFJcVZCMVpvUjcyNE43Z3xBQ3Jtc0treE5EWDdtWDc1VVExZGpBNDJnaWgxQ0h1NENTRjhNVlo2QWhpSW4taTRwSnVFZFVFcTN0RXk5WHNiMU1obWhZdERkVjhmTVZwb0J2UEVrT1BTLWhVM2RNMk9tX3VQR0JwZDZ1WGlXV0VOT2wwcWoyRQ&q=hackforla.org',\n",
       " 'https://www.youtube.com/redirect?event=channel_banner&redir_token=QUFFLUhqbUF0cE8tbmp5YkxpRkNldERXU1NzNWFJcnZuQXxBQ3Jtc0tuU2lTNGMwcE8zNE5Oa2FGUWhLZ3A4dFpTQmNxTHFVbUt0NVdOX29jb2Z2Z29OSURrYjJEVVhqX3FsTzdKR2ZMckcweWQ0XzY0eHREdjVrVUR6M19KVXpfUE1Xc1ZLNEkwQ202UkxYSzVOOU9xaHBESQ&q=civictechindex.org',\n",
       " 'https://www.youtube.com/channel/UCOl_a9rl1FykCd3ZO0yN6uQ/videos?view=0&sort=dd&shelf_id=0']"
      ]
     },
     "execution_count": 162,
     "metadata": {},
     "output_type": "execute_result"
    }
   ],
   "source": [
    "possible_links[:20]"
   ]
  },
  {
   "cell_type": "code",
   "execution_count": 163,
   "metadata": {},
   "outputs": [],
   "source": [
    "# get rid of the none values\n",
    "possible_links= list(filter(None, possible_links))"
   ]
  },
  {
   "cell_type": "markdown",
   "metadata": {},
   "source": [
    "Pick out the tutorial videos, put them in a dataframe"
   ]
  },
  {
   "cell_type": "code",
   "execution_count": 164,
   "metadata": {},
   "outputs": [],
   "source": [
    "links=[]\n",
    "for link in possible_links:\n",
    "    if 'watch?v' in link:\n",
    "        links.append(link)"
   ]
  },
  {
   "cell_type": "code",
   "execution_count": 165,
   "metadata": {},
   "outputs": [
    {
     "data": {
      "text/plain": [
       "['https://www.youtube.com/watch?v=gM8ZTktaFmI&list=UUOl_a9rl1FykCd3ZO0yN6uQ',\n",
       " 'https://www.youtube.com/watch?v=gM8ZTktaFmI',\n",
       " 'https://www.youtube.com/watch?v=gM8ZTktaFmI',\n",
       " 'https://www.youtube.com/watch?v=3NjJ3RXfLvQ',\n",
       " 'https://www.youtube.com/watch?v=3NjJ3RXfLvQ',\n",
       " 'https://www.youtube.com/watch?v=g04XJCspuJ4',\n",
       " 'https://www.youtube.com/watch?v=g04XJCspuJ4',\n",
       " 'https://www.youtube.com/watch?v=zAfOKQR_Sfc',\n",
       " 'https://www.youtube.com/watch?v=zAfOKQR_Sfc',\n",
       " 'https://www.youtube.com/watch?v=NRgztzW0zmM',\n",
       " 'https://www.youtube.com/watch?v=NRgztzW0zmM',\n",
       " 'https://www.youtube.com/watch?v=x9wBtYs9RnM',\n",
       " 'https://www.youtube.com/watch?v=x9wBtYs9RnM']"
      ]
     },
     "execution_count": 165,
     "metadata": {},
     "output_type": "execute_result"
    }
   ],
   "source": [
    "links"
   ]
  },
  {
   "cell_type": "markdown",
   "metadata": {},
   "source": [
    "Add them to a dataframe"
   ]
  },
  {
   "cell_type": "code",
   "execution_count": 166,
   "metadata": {},
   "outputs": [],
   "source": [
    "videodf=pd.DataFrame(links, columns=['tutorial_videos'])"
   ]
  },
  {
   "cell_type": "code",
   "execution_count": 167,
   "metadata": {},
   "outputs": [
    {
     "data": {
      "text/html": [
       "<div>\n",
       "<style scoped>\n",
       "    .dataframe tbody tr th:only-of-type {\n",
       "        vertical-align: middle;\n",
       "    }\n",
       "\n",
       "    .dataframe tbody tr th {\n",
       "        vertical-align: top;\n",
       "    }\n",
       "\n",
       "    .dataframe thead th {\n",
       "        text-align: right;\n",
       "    }\n",
       "</style>\n",
       "<table border=\"1\" class=\"dataframe\">\n",
       "  <thead>\n",
       "    <tr style=\"text-align: right;\">\n",
       "      <th></th>\n",
       "      <th>tutorial_videos</th>\n",
       "    </tr>\n",
       "  </thead>\n",
       "  <tbody>\n",
       "    <tr>\n",
       "      <th>0</th>\n",
       "      <td>https://www.youtube.com/watch?v=gM8ZTktaFmI&amp;li...</td>\n",
       "    </tr>\n",
       "    <tr>\n",
       "      <th>1</th>\n",
       "      <td>https://www.youtube.com/watch?v=gM8ZTktaFmI</td>\n",
       "    </tr>\n",
       "    <tr>\n",
       "      <th>2</th>\n",
       "      <td>https://www.youtube.com/watch?v=gM8ZTktaFmI</td>\n",
       "    </tr>\n",
       "    <tr>\n",
       "      <th>3</th>\n",
       "      <td>https://www.youtube.com/watch?v=3NjJ3RXfLvQ</td>\n",
       "    </tr>\n",
       "    <tr>\n",
       "      <th>4</th>\n",
       "      <td>https://www.youtube.com/watch?v=3NjJ3RXfLvQ</td>\n",
       "    </tr>\n",
       "    <tr>\n",
       "      <th>5</th>\n",
       "      <td>https://www.youtube.com/watch?v=g04XJCspuJ4</td>\n",
       "    </tr>\n",
       "    <tr>\n",
       "      <th>6</th>\n",
       "      <td>https://www.youtube.com/watch?v=g04XJCspuJ4</td>\n",
       "    </tr>\n",
       "    <tr>\n",
       "      <th>7</th>\n",
       "      <td>https://www.youtube.com/watch?v=zAfOKQR_Sfc</td>\n",
       "    </tr>\n",
       "    <tr>\n",
       "      <th>8</th>\n",
       "      <td>https://www.youtube.com/watch?v=zAfOKQR_Sfc</td>\n",
       "    </tr>\n",
       "    <tr>\n",
       "      <th>9</th>\n",
       "      <td>https://www.youtube.com/watch?v=NRgztzW0zmM</td>\n",
       "    </tr>\n",
       "    <tr>\n",
       "      <th>10</th>\n",
       "      <td>https://www.youtube.com/watch?v=NRgztzW0zmM</td>\n",
       "    </tr>\n",
       "    <tr>\n",
       "      <th>11</th>\n",
       "      <td>https://www.youtube.com/watch?v=x9wBtYs9RnM</td>\n",
       "    </tr>\n",
       "    <tr>\n",
       "      <th>12</th>\n",
       "      <td>https://www.youtube.com/watch?v=x9wBtYs9RnM</td>\n",
       "    </tr>\n",
       "  </tbody>\n",
       "</table>\n",
       "</div>"
      ],
      "text/plain": [
       "                                      tutorial_videos\n",
       "0   https://www.youtube.com/watch?v=gM8ZTktaFmI&li...\n",
       "1         https://www.youtube.com/watch?v=gM8ZTktaFmI\n",
       "2         https://www.youtube.com/watch?v=gM8ZTktaFmI\n",
       "3         https://www.youtube.com/watch?v=3NjJ3RXfLvQ\n",
       "4         https://www.youtube.com/watch?v=3NjJ3RXfLvQ\n",
       "5         https://www.youtube.com/watch?v=g04XJCspuJ4\n",
       "6         https://www.youtube.com/watch?v=g04XJCspuJ4\n",
       "7         https://www.youtube.com/watch?v=zAfOKQR_Sfc\n",
       "8         https://www.youtube.com/watch?v=zAfOKQR_Sfc\n",
       "9         https://www.youtube.com/watch?v=NRgztzW0zmM\n",
       "10        https://www.youtube.com/watch?v=NRgztzW0zmM\n",
       "11        https://www.youtube.com/watch?v=x9wBtYs9RnM\n",
       "12        https://www.youtube.com/watch?v=x9wBtYs9RnM"
      ]
     },
     "execution_count": 167,
     "metadata": {},
     "output_type": "execute_result"
    }
   ],
   "source": [
    "videodf"
   ]
  }
 ],
 "metadata": {
  "kernelspec": {
   "display_name": "Python 3.9.13 64-bit (windows store)",
   "language": "python",
   "name": "python3"
  },
  "language_info": {
   "codemirror_mode": {
    "name": "ipython",
    "version": 3
   },
   "file_extension": ".py",
   "mimetype": "text/x-python",
   "name": "python",
   "nbconvert_exporter": "python",
   "pygments_lexer": "ipython3",
   "version": "3.9.13"
  },
  "orig_nbformat": 4,
  "vscode": {
   "interpreter": {
    "hash": "8ad3b4ca62056b0ddf6609e8c0d475b5225220fb28d68e3e23627eb1e1c7d9eb"
   }
  }
 },
 "nbformat": 4,
 "nbformat_minor": 2
}
