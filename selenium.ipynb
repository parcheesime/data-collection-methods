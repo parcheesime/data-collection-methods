{
 "cells": [
  {
   "cell_type": "markdown",
   "metadata": {},
   "source": [
    "## Webscraping with Selenium\n",
    "\n",
    "What you'll need:\n",
    "\n",
    "- [Chrome Version](https://www.google.com/chrome/update/)\n",
    "- [ChromeDriver matching your version](https://chromedriver.chromium.org/downloads)\n",
    "- [Selinium](https://www.selenium.dev/downloads/)\n",
    "- [Create Virtual Environment](https://realpython.com/lessons/creating-virtual-environment/)\n",
    "- [Gitignore](https://www.toptal.com/developers/gitignore)"
   ]
  },
  {
   "cell_type": "code",
   "execution_count": null,
   "metadata": {},
   "outputs": [],
   "source": []
  }
 ],
 "metadata": {
  "kernelspec": {
   "display_name": "Python 3.9.13 64-bit (windows store)",
   "language": "python",
   "name": "python3"
  },
  "language_info": {
   "name": "python",
   "version": "3.9.13"
  },
  "orig_nbformat": 4,
  "vscode": {
   "interpreter": {
    "hash": "8ad3b4ca62056b0ddf6609e8c0d475b5225220fb28d68e3e23627eb1e1c7d9eb"
   }
  }
 },
 "nbformat": 4,
 "nbformat_minor": 2
}
