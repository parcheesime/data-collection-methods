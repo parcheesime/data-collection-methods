{
 "cells": [
  {
   "cell_type": "code",
   "execution_count": 4,
   "metadata": {},
   "outputs": [],
   "source": [
    "import numpy as np\n",
    "import pandas as pd\n",
    "import matplotlib.pyplot as plt\n",
    "from unicodedata import normalize"
   ]
  },
  {
   "cell_type": "code",
   "execution_count": 15,
   "metadata": {},
   "outputs": [],
   "source": [
    "url = input('Enter URL:')\n",
    "table = input('Enter Table Name:')\n",
    "data_scraped = pd.read_html(url, match=table)\n",
    "df = data_scraped"
   ]
  },
  {
   "cell_type": "code",
   "execution_count": 16,
   "metadata": {},
   "outputs": [
    {
     "data": {
      "text/plain": [
       "[           Nation                              Authority  \\\n",
       " 0   United States         President of the United States   \n",
       " 1          Russia                    President of Russia   \n",
       " 2  United Kingdom                    The British Monarch   \n",
       " 3          France                    President of France   \n",
       " 4           China            Central Military Commission   \n",
       " 5           India                Prime Minister of India   \n",
       " 6        Pakistan             National Command Authority   \n",
       " 7     North Korea  Supreme Commander of the Armed Forces   \n",
       " 8          Israel                         Prime Minister   \n",
       " \n",
       "                                                Notes  \n",
       " 0  See the Presidential Emergency Satchel.[101][102]  \n",
       " 1  Briefcases may also be issued to the Minister ...  \n",
       " 2  The Prime Minister exercises the Royal preroga...  \n",
       " 3                                         [101][102]  \n",
       " 4  The Chairman of the Central Military Commissio...  \n",
       " 5  Nuclear Command Authority includes an Executiv...  \n",
       " 6  Requires a consensus of the council's members....  \n",
       " 7  The Supreme Commander is also the Chairman of ...  \n",
       " 8  Requires agreement of the Minister of Defense ...  ]"
      ]
     },
     "execution_count": 16,
     "metadata": {},
     "output_type": "execute_result"
    }
   ],
   "source": [
    "df"
   ]
  }
 ],
 "metadata": {
  "kernelspec": {
   "display_name": "Python 3.9.13 64-bit (windows store)",
   "language": "python",
   "name": "python3"
  },
  "language_info": {
   "codemirror_mode": {
    "name": "ipython",
    "version": 3
   },
   "file_extension": ".py",
   "mimetype": "text/x-python",
   "name": "python",
   "nbconvert_exporter": "python",
   "pygments_lexer": "ipython3",
   "version": "3.9.13"
  },
  "orig_nbformat": 4,
  "vscode": {
   "interpreter": {
    "hash": "8ad3b4ca62056b0ddf6609e8c0d475b5225220fb28d68e3e23627eb1e1c7d9eb"
   }
  }
 },
 "nbformat": 4,
 "nbformat_minor": 2
}
