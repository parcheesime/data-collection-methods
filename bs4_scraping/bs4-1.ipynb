{
 "cells": [
  {
   "cell_type": "markdown",
   "metadata": {},
   "source": [
    "# Web Scraping Part 2.0\n",
    "### Parse HTML with Beautifulsoup\n",
    "\n",
    "Part 2 expands on Part 1, being able to handle data other than HTML tables.\n",
    "\n",
    "This tutorial uses the following Python packages:\n",
    "\n",
    "- [Beautiful Soup](https://www.crummy.com/software/BeautifulSoup/bs4/doc/): provides a way to view source code.\n",
    "\n",
    "- Requests: Use GET request method to fetch the web page.\n",
    "\n",
    "- Regular expression operations - re\n",
    "\n",
    "Part 2.0 Vocab\n",
    "\n",
    "| Term | Description |\n",
    "| -------- | ----------- |\n",
    "| GET method |  to request data from the server. |\n",
    "| Parser | allows Python code to edit the parse tree of a Python expression and create executable code. |\n",
    "| Beautiful Soup | Python library that is used for web scraping purposes to pull the data out of HTML and XML files. It creates a parse tree. |\n",
    "| Regular Expressions | used to match strings of text such as particular characters, words, or patterns of characters. |\n",
    "\n",
    "\n",
    "[Test your regular expressions](https://pythex.org/)\n",
    "\n",
    "Pages used in this tutorial: \n",
    "\n",
    "[Gutenberg: Top 100 EBooks](https://www.gutenberg.org/browse/scores/top#books-last1)"
   ]
  },
  {
   "cell_type": "markdown",
   "metadata": {},
   "source": [
    "> Get Libraries"
   ]
  },
  {
   "cell_type": "code",
   "execution_count": 1,
   "metadata": {},
   "outputs": [],
   "source": [
    "import pandas as pd\n",
    "pd.set_option('display.max_rows', 100)\n",
    "import requests\n",
    "from bs4 import BeautifulSoup\n",
    "import urllib3"
   ]
  },
  {
   "cell_type": "markdown",
   "metadata": {},
   "source": [
    "> assign url to variable, type Response"
   ]
  },
  {
   "cell_type": "code",
   "execution_count": 2,
   "metadata": {},
   "outputs": [
    {
     "data": {
      "text/plain": [
       "requests.models.Response"
      ]
     },
     "execution_count": 2,
     "metadata": {},
     "output_type": "execute_result"
    }
   ],
   "source": [
    "# get url\n",
    "url = input('Enter URL: ')\n",
    "html_scraped = requests.get(url)\n",
    "type(html_scraped)"
   ]
  },
  {
   "cell_type": "markdown",
   "metadata": {},
   "source": [
    "> Create a beautifulSoup parse tree.\n",
    "\n",
    "| HTML Parsers |\n",
    "  ------------\n",
    "  | html.parser |\n",
    "  | html5lib |\n",
    "    "
   ]
  },
  {
   "cell_type": "code",
   "execution_count": 3,
   "metadata": {},
   "outputs": [],
   "source": [
    "# BeautifulSoup parse tree\n",
    "soup = BeautifulSoup(html_scraped.text, 'html.parser')"
   ]
  },
  {
   "cell_type": "markdown",
   "metadata": {},
   "source": [
    "> View Data: Put the parse tree into a nested data structure with pretty print."
   ]
  },
  {
   "cell_type": "code",
   "execution_count": 4,
   "metadata": {},
   "outputs": [],
   "source": [
    "preti=soup.prettify()\n",
    "#preti"
   ]
  },
  {
   "cell_type": "markdown",
   "metadata": {},
   "source": [
    "4 Python objects in the parse tree to search: \n",
    "\n",
    "- Tag\n",
    "- NavigableString\n",
    "- BeautifulSoup\n",
    "- Comment"
   ]
  },
  {
   "cell_type": "markdown",
   "metadata": {},
   "source": [
    "> TAGS"
   ]
  },
  {
   "cell_type": "markdown",
   "metadata": {},
   "source": [
    "Some common methods to navigate the BeautifulSoup parse tree based on tags.\n",
    "\n",
    "| Approach | Description |\n",
    "| -------- | ----------- |\n",
    "| Dot Operator | soup.p |\n",
    "| String Filter | soup.find_all('p') |\n",
    "| List Filter | soup.find_all(['p', 'link']) |\n",
    "| Regular Expressions | Search Strings, CSS class |"
   ]
  },
  {
   "cell_type": "markdown",
   "metadata": {},
   "source": [
    "dot operator -> bs4"
   ]
  },
  {
   "cell_type": "code",
   "execution_count": 5,
   "metadata": {},
   "outputs": [],
   "source": [
    "# use dot operator to get html tag\n",
    "soup.h3"
   ]
  },
  {
   "cell_type": "markdown",
   "metadata": {},
   "source": [
    "string filter -> list"
   ]
  },
  {
   "cell_type": "code",
   "execution_count": 6,
   "metadata": {},
   "outputs": [
    {
     "data": {
      "text/plain": [
       "[]"
      ]
     },
     "execution_count": 6,
     "metadata": {},
     "output_type": "execute_result"
    }
   ],
   "source": [
    "# use find_all to get tag\n",
    "soup.find_all('b')\n"
   ]
  },
  {
   "cell_type": "markdown",
   "metadata": {},
   "source": [
    "list filter -> list"
   ]
  },
  {
   "cell_type": "code",
   "execution_count": 7,
   "metadata": {},
   "outputs": [
    {
     "data": {
      "text/plain": [
       "[<h2 id=\"books-last1\">Top 100 EBooks yesterday</h2>,\n",
       " <h2 id=\"authors-last1\">Top 100 Authors yesterday</h2>,\n",
       " <h2 id=\"books-last7\">Top 100 EBooks last 7 days</h2>,\n",
       " <h2 id=\"authors-last7\">Top 100 Authors last 7 days</h2>,\n",
       " <h2 id=\"books-last30\">Top 100 EBooks last 30 days</h2>,\n",
       " <h2 id=\"authors-last30\">Top 100 Authors last 30 days</h2>]"
      ]
     },
     "execution_count": 7,
     "metadata": {},
     "output_type": "execute_result"
    }
   ],
   "source": [
    "# use find_all to get multiple tags\n",
    "soup.find_all(['h2', 'b'])"
   ]
  },
  {
   "cell_type": "markdown",
   "metadata": {},
   "source": [
    "other filters"
   ]
  },
  {
   "cell_type": "code",
   "execution_count": 8,
   "metadata": {},
   "outputs": [
    {
     "data": {
      "text/plain": [
       "[]"
      ]
     },
     "execution_count": 8,
     "metadata": {},
     "output_type": "execute_result"
    }
   ],
   "source": [
    "# access parent of an element\n",
    "btag = soup.find_all('b')\n",
    "bpara = [ b.parent for b in btag]\n",
    "bpara"
   ]
  },
  {
   "cell_type": "markdown",
   "metadata": {},
   "source": [
    "## Web Scraping with BeautifulSoup Part 2.1"
   ]
  },
  {
   "cell_type": "markdown",
   "metadata": {},
   "source": [
    "Scraping and working with links to data.\n",
    "- parse tree and string(text) format.\n",
    "\n",
    "- filtering the text with get(). "
   ]
  },
  {
   "cell_type": "markdown",
   "metadata": {},
   "source": [
    "> Search for files on web page"
   ]
  },
  {
   "cell_type": "markdown",
   "metadata": {},
   "source": [
    "Finding pages with downloadable data"
   ]
  },
  {
   "cell_type": "code",
   "execution_count": 9,
   "metadata": {},
   "outputs": [],
   "source": [
    "# Get list of documentation pages\n",
    "\n",
    "file_type='documentation'\n",
    "\n",
    "for link in soup.find_all('li'):\n",
    "    for a in link.find_all('a'):\n",
    "        file_link=a.get('href')\n",
    "        if file_type in file_link:\n",
    "            print(file_link)"
   ]
  },
  {
   "cell_type": "markdown",
   "metadata": {},
   "source": [
    "Find tags that contain certain letters. Using ^ find tags that begin with said letter.\n",
    "\n",
    "> re creates a search such that it is regex search, '^', searching for any tag that begins with a letter."
   ]
  },
  {
   "cell_type": "code",
   "execution_count": 10,
   "metadata": {},
   "outputs": [],
   "source": [
    "# import package for regex\n",
    "import re"
   ]
  },
  {
   "cell_type": "markdown",
   "metadata": {},
   "source": [
    "Begins with 'b'"
   ]
  },
  {
   "cell_type": "code",
   "execution_count": 11,
   "metadata": {},
   "outputs": [
    {
     "data": {
      "text/plain": [
       "[<img alt=\"Project Gutenberg\" draggable=\"false\" src=\"/gutenberg/pg-logo-129x80.png\"/>,\n",
       " <input id=\"tm\" type=\"checkbox\"/>,\n",
       " <input id=\"sm0\" type=\"checkbox\"/>,\n",
       " <input id=\"sm8\" type=\"checkbox\"/>,\n",
       " <input id=\"sm3\" type=\"checkbox\"/>]"
      ]
     },
     "execution_count": 11,
     "metadata": {},
     "output_type": "execute_result"
    }
   ],
   "source": [
    "# use find_all and regex to search\n",
    "soup.find_all(re.compile('^i'), limit=5)"
   ]
  },
  {
   "cell_type": "markdown",
   "metadata": {},
   "source": [
    "Begins with 'l'"
   ]
  },
  {
   "cell_type": "code",
   "execution_count": 12,
   "metadata": {},
   "outputs": [
    {
     "data": {
      "text/plain": [
       "[<link href=\"/gutenberg/style.css?v=1.1\" rel=\"stylesheet\"/>,\n",
       " <link href=\"/gutenberg/collapsible.css?1.1\" rel=\"stylesheet\"/>,\n",
       " <link href=\"/gutenberg/new_nav.css?v=1.321231\" rel=\"stylesheet\"/>,\n",
       " <link href=\"/gutenberg/pg-desktop-one.css\" rel=\"stylesheet\"/>,\n",
       " <link href=\"https://www.gnu.org/copyleft/fdl.html\" rel=\"copyright\">\n",
       " <link href=\"/gutenberg/favicon.ico?v=1.1\" rel=\"shortcut icon\">\n",
       " <meta content=\"Project Gutenberg\" property=\"og:title\"/>\n",
       " <meta content=\"website\" property=\"og:type\"/>\n",
       " <meta content=\"https://www.gutenberg.org/\" property=\"og:url\"/>\n",
       " <meta content=\"Project Gutenberg is a library of free eBooks.\" property=\"og:description\"/>\n",
       " <meta content=\"615269807\" property=\"fb:admins\"/>\n",
       " <meta content=\"115319388529183\" property=\"fb:app_id\"/>\n",
       " <meta content=\"Project Gutenberg\" property=\"og:site_name\"/>\n",
       " <meta content=\"https://www.gutenberg.org/gutenberg/pg-logo-144x144.png\" property=\"og:image\"/>\n",
       " </link></link>]"
      ]
     },
     "execution_count": 12,
     "metadata": {},
     "output_type": "execute_result"
    }
   ],
   "source": [
    "soup.find_all(re.compile('^l'), limit=5)"
   ]
  },
  {
   "cell_type": "markdown",
   "metadata": {},
   "source": [
    "More on RegEx [HERE]('https://docs.python.org/3/library/re.html') and see the PDF, 'Python Regex Cheat Sheet'"
   ]
  },
  {
   "cell_type": "markdown",
   "metadata": {},
   "source": [
    "Put the top ebooks into a dataframe"
   ]
  },
  {
   "cell_type": "code",
   "execution_count": 13,
   "metadata": {},
   "outputs": [],
   "source": [
    "# loop through soup find url links and put in list\n",
    "file_type='ebooks'\n",
    "books=[]\n",
    "for link in soup.find_all(re.compile('^a')):\n",
    "    if file_type in link.get('href'):\n",
    "        books.append(link.text.strip())  "
   ]
  },
  {
   "cell_type": "code",
   "execution_count": 14,
   "metadata": {},
   "outputs": [],
   "source": [
    "# create a dataframe from list\n",
    "df=pd.DataFrame(books, columns=['top_ebooks'])"
   ]
  },
  {
   "cell_type": "code",
   "execution_count": 15,
   "metadata": {},
   "outputs": [
    {
     "data": {
      "text/html": [
       "<div>\n",
       "<style scoped>\n",
       "    .dataframe tbody tr th:only-of-type {\n",
       "        vertical-align: middle;\n",
       "    }\n",
       "\n",
       "    .dataframe tbody tr th {\n",
       "        vertical-align: top;\n",
       "    }\n",
       "\n",
       "    .dataframe thead th {\n",
       "        text-align: right;\n",
       "    }\n",
       "</style>\n",
       "<table border=\"1\" class=\"dataframe\">\n",
       "  <thead>\n",
       "    <tr style=\"text-align: right;\">\n",
       "      <th></th>\n",
       "      <th>top_ebooks</th>\n",
       "    </tr>\n",
       "  </thead>\n",
       "  <tbody>\n",
       "    <tr>\n",
       "      <th>0</th>\n",
       "      <td>Search and Browse\\n      \\t  ▾</td>\n",
       "    </tr>\n",
       "    <tr>\n",
       "      <th>1</th>\n",
       "      <td>Book Search</td>\n",
       "    </tr>\n",
       "    <tr>\n",
       "      <th>2</th>\n",
       "      <td>Bookshelves</td>\n",
       "    </tr>\n",
       "    <tr>\n",
       "      <th>3</th>\n",
       "      <td>Offline Catalogs</td>\n",
       "    </tr>\n",
       "    <tr>\n",
       "      <th>4</th>\n",
       "      <td>A Room with a View by E. M.  Forster (5593)</td>\n",
       "    </tr>\n",
       "    <tr>\n",
       "      <th>5</th>\n",
       "      <td>Middlemarch by George Eliot (5278)</td>\n",
       "    </tr>\n",
       "    <tr>\n",
       "      <th>6</th>\n",
       "      <td>Little Women; Or, Meg, Jo, Beth, and Amy by Lo...</td>\n",
       "    </tr>\n",
       "    <tr>\n",
       "      <th>7</th>\n",
       "      <td>The Enchanted April by Elizabeth Von Arnim (4785)</td>\n",
       "    </tr>\n",
       "    <tr>\n",
       "      <th>8</th>\n",
       "      <td>The Blue Castle: a novel by L. M.  Montgomery ...</td>\n",
       "    </tr>\n",
       "    <tr>\n",
       "      <th>9</th>\n",
       "      <td>Cranford by Elizabeth Cleghorn Gaskell (4507)</td>\n",
       "    </tr>\n",
       "  </tbody>\n",
       "</table>\n",
       "</div>"
      ],
      "text/plain": [
       "                                          top_ebooks\n",
       "0                     Search and Browse\\n      \\t  ▾\n",
       "1                                        Book Search\n",
       "2                                        Bookshelves\n",
       "3                                   Offline Catalogs\n",
       "4        A Room with a View by E. M.  Forster (5593)\n",
       "5                 Middlemarch by George Eliot (5278)\n",
       "6  Little Women; Or, Meg, Jo, Beth, and Amy by Lo...\n",
       "7  The Enchanted April by Elizabeth Von Arnim (4785)\n",
       "8  The Blue Castle: a novel by L. M.  Montgomery ...\n",
       "9      Cranford by Elizabeth Cleghorn Gaskell (4507)"
      ]
     },
     "execution_count": 15,
     "metadata": {},
     "output_type": "execute_result"
    }
   ],
   "source": [
    "# view dataframe\n",
    "df.head(10)"
   ]
  },
  {
   "cell_type": "markdown",
   "metadata": {},
   "source": [
    "Delete first 4 rows"
   ]
  },
  {
   "cell_type": "code",
   "execution_count": 16,
   "metadata": {},
   "outputs": [],
   "source": [
    "# clean up dataframe\n",
    "df = df.drop( labels=range(0, 4), axis=0)"
   ]
  },
  {
   "cell_type": "code",
   "execution_count": 17,
   "metadata": {},
   "outputs": [
    {
     "data": {
      "text/html": [
       "<div>\n",
       "<style scoped>\n",
       "    .dataframe tbody tr th:only-of-type {\n",
       "        vertical-align: middle;\n",
       "    }\n",
       "\n",
       "    .dataframe tbody tr th {\n",
       "        vertical-align: top;\n",
       "    }\n",
       "\n",
       "    .dataframe thead th {\n",
       "        text-align: right;\n",
       "    }\n",
       "</style>\n",
       "<table border=\"1\" class=\"dataframe\">\n",
       "  <thead>\n",
       "    <tr style=\"text-align: right;\">\n",
       "      <th></th>\n",
       "      <th>top_ebooks</th>\n",
       "    </tr>\n",
       "  </thead>\n",
       "  <tbody>\n",
       "    <tr>\n",
       "      <th>4</th>\n",
       "      <td>A Room with a View by E. M.  Forster (5593)</td>\n",
       "    </tr>\n",
       "    <tr>\n",
       "      <th>5</th>\n",
       "      <td>Middlemarch by George Eliot (5278)</td>\n",
       "    </tr>\n",
       "    <tr>\n",
       "      <th>6</th>\n",
       "      <td>Little Women; Or, Meg, Jo, Beth, and Amy by Lo...</td>\n",
       "    </tr>\n",
       "    <tr>\n",
       "      <th>7</th>\n",
       "      <td>The Enchanted April by Elizabeth Von Arnim (4785)</td>\n",
       "    </tr>\n",
       "    <tr>\n",
       "      <th>8</th>\n",
       "      <td>The Blue Castle: a novel by L. M.  Montgomery ...</td>\n",
       "    </tr>\n",
       "    <tr>\n",
       "      <th>9</th>\n",
       "      <td>Cranford by Elizabeth Cleghorn Gaskell (4507)</td>\n",
       "    </tr>\n",
       "    <tr>\n",
       "      <th>10</th>\n",
       "      <td>Frankenstein; Or, The Modern Prometheus by Mar...</td>\n",
       "    </tr>\n",
       "    <tr>\n",
       "      <th>11</th>\n",
       "      <td>Pride and Prejudice by Jane Austen (2131)</td>\n",
       "    </tr>\n",
       "    <tr>\n",
       "      <th>12</th>\n",
       "      <td>Dracula by Bram Stoker (1078)</td>\n",
       "    </tr>\n",
       "    <tr>\n",
       "      <th>13</th>\n",
       "      <td>Alice's Adventures in Wonderland by Lewis Carr...</td>\n",
       "    </tr>\n",
       "  </tbody>\n",
       "</table>\n",
       "</div>"
      ],
      "text/plain": [
       "                                           top_ebooks\n",
       "4         A Room with a View by E. M.  Forster (5593)\n",
       "5                  Middlemarch by George Eliot (5278)\n",
       "6   Little Women; Or, Meg, Jo, Beth, and Amy by Lo...\n",
       "7   The Enchanted April by Elizabeth Von Arnim (4785)\n",
       "8   The Blue Castle: a novel by L. M.  Montgomery ...\n",
       "9       Cranford by Elizabeth Cleghorn Gaskell (4507)\n",
       "10  Frankenstein; Or, The Modern Prometheus by Mar...\n",
       "11          Pride and Prejudice by Jane Austen (2131)\n",
       "12                      Dracula by Bram Stoker (1078)\n",
       "13  Alice's Adventures in Wonderland by Lewis Carr..."
      ]
     },
     "execution_count": 17,
     "metadata": {},
     "output_type": "execute_result"
    }
   ],
   "source": [
    "# view df\n",
    "df.head(10)"
   ]
  }
 ],
 "metadata": {
  "kernelspec": {
   "display_name": "Python 3.9.13 64-bit (windows store)",
   "language": "python",
   "name": "python3"
  },
  "language_info": {
   "codemirror_mode": {
    "name": "ipython",
    "version": 3
   },
   "file_extension": ".py",
   "mimetype": "text/x-python",
   "name": "python",
   "nbconvert_exporter": "python",
   "pygments_lexer": "ipython3",
   "version": "3.9.13 (tags/v3.9.13:6de2ca5, May 17 2022, 16:36:42) [MSC v.1929 64 bit (AMD64)]"
  },
  "orig_nbformat": 4,
  "vscode": {
   "interpreter": {
    "hash": "8ad3b4ca62056b0ddf6609e8c0d475b5225220fb28d68e3e23627eb1e1c7d9eb"
   }
  }
 },
 "nbformat": 4,
 "nbformat_minor": 2
}
