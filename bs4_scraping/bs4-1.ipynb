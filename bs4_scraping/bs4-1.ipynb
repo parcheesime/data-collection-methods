{
 "cells": [
  {
   "cell_type": "markdown",
   "metadata": {},
   "source": [
    "# Web Scraping Part 2.0\n",
    "### Parse HTML with Beautifulsoup\n",
    "\n",
    "Part 2 expands on Part 1, being able to handle data other than HTML tables.\n",
    "\n",
    "This tutorial uses the following Python packages:\n",
    "\n",
    "- [Beautiful Soup](https://www.crummy.com/software/BeautifulSoup/bs4/doc/): provides a way to view source code.\n",
    "\n",
    "- Requests: Use GET request method to fetch the web page.\n",
    "\n",
    "- Regular expression operations - re\n",
    "\n",
    "Part 2.0 Vocab\n",
    "\n",
    "| Term | Description |\n",
    "| -------- | ----------- |\n",
    "| GET method |  to request data from the server. |\n",
    "| Parser | allows Python code to edit the parse tree of a Python expression and create executable code. |\n",
    "| Beautiful Soup | Python library that is used for web scraping purposes to pull the data out of HTML and XML files. It creates a parse tree. |\n",
    "| Regular Expressions | used to match strings of text such as particular characters, words, or patterns of characters. |\n",
    "\n",
    "\n",
    "[Test your regular expressions](https://pythex.org/)\n",
    "\n",
    "Pages used in this tutorial: \n",
    "\n",
    "[Gutenberg: Top 100 EBooks](https://www.gutenberg.org/browse/scores/top#books-last1)"
   ]
  },
  {
   "cell_type": "markdown",
   "metadata": {},
   "source": [
    "> Get Libraries"
   ]
  },
  {
   "cell_type": "code",
   "execution_count": 1,
   "metadata": {},
   "outputs": [],
   "source": [
    "import pandas as pd\n",
    "pd.set_option('display.max_rows', 100)\n",
    "import requests\n",
    "from bs4 import BeautifulSoup\n",
    "import urllib3"
   ]
  },
  {
   "cell_type": "markdown",
   "metadata": {},
   "source": [
    "> assign url to variable, type Response"
   ]
  },
  {
   "cell_type": "code",
   "execution_count": 3,
   "metadata": {},
   "outputs": [
    {
     "data": {
      "text/plain": [
       "requests.models.Response"
      ]
     },
     "execution_count": 3,
     "metadata": {},
     "output_type": "execute_result"
    }
   ],
   "source": [
    "# get url\n",
    "url = input('Enter URL: ')\n",
    "html_scraped = requests.get(url)\n",
    "type(html_scraped)"
   ]
  },
  {
   "cell_type": "markdown",
   "metadata": {},
   "source": [
    "> Create a beautifulSoup parse tree.\n",
    "\n",
    "| HTML Parsers |\n",
    "  ------------\n",
    "  | html.parser |\n",
    "  | html5lib |\n",
    "    "
   ]
  },
  {
   "cell_type": "code",
   "execution_count": 4,
   "metadata": {},
   "outputs": [],
   "source": [
    "# BeautifulSoup parse tree\n",
    "soup = BeautifulSoup(html_scraped.text, 'html.parser')"
   ]
  },
  {
   "cell_type": "markdown",
   "metadata": {},
   "source": [
    "> View Data: Put the parse tree into a nested data structure with pretty print."
   ]
  },
  {
   "cell_type": "code",
   "execution_count": 5,
   "metadata": {},
   "outputs": [],
   "source": [
    "preti=soup.prettify()\n",
    "#preti"
   ]
  },
  {
   "cell_type": "markdown",
   "metadata": {},
   "source": [
    "4 Python objects in the parse tree to search: \n",
    "\n",
    "- Tag\n",
    "- NavigableString\n",
    "- BeautifulSoup\n",
    "- Comment"
   ]
  },
  {
   "cell_type": "markdown",
   "metadata": {},
   "source": [
    "> TAGS"
   ]
  },
  {
   "cell_type": "markdown",
   "metadata": {},
   "source": [
    "Some common methods to navigate the BeautifulSoup parse tree based on tags.\n",
    "\n",
    "| Approach | Description |\n",
    "| -------- | ----------- |\n",
    "| Dot Operator | soup.p |\n",
    "| String Filter | soup.find_all('p') |\n",
    "| List Filter | soup.find_all(['p', 'link']) |\n",
    "| Regular Expressions | Search Strings, CSS class |"
   ]
  },
  {
   "cell_type": "markdown",
   "metadata": {},
   "source": [
    "dot operator -> bs4"
   ]
  },
  {
   "cell_type": "code",
   "execution_count": 9,
   "metadata": {},
   "outputs": [],
   "source": [
    "# use dot operator to get html tag\n",
    "soup.h3"
   ]
  },
  {
   "cell_type": "markdown",
   "metadata": {},
   "source": [
    "string filter -> list"
   ]
  },
  {
   "cell_type": "code",
   "execution_count": 10,
   "metadata": {},
   "outputs": [
    {
     "data": {
      "text/plain": [
       "[<p>Calculated from the number of times each eBook gets\n",
       " downloaded. (Multiple downloads from the same Internet\n",
       " address on the same day count as one download. Addresses\n",
       " that download more than 100 eBooks in a day are considered\n",
       " robots and are not counted.)</p>,\n",
       " <p>Visualizations and graphs are available as\n",
       " <a href=\"/about/pretty-pictures.html\">pretty pictures</a>.</p>]"
      ]
     },
     "execution_count": 10,
     "metadata": {},
     "output_type": "execute_result"
    }
   ],
   "source": [
    "# use find_all to get tag\n",
    "soup.find_all('p')\n"
   ]
  },
  {
   "cell_type": "markdown",
   "metadata": {},
   "source": [
    "list filter -> list"
   ]
  },
  {
   "cell_type": "code",
   "execution_count": 11,
   "metadata": {},
   "outputs": [
    {
     "data": {
      "text/plain": [
       "[<h2 id=\"books-last1\">Top 100 EBooks yesterday</h2>,\n",
       " <h2 id=\"authors-last1\">Top 100 Authors yesterday</h2>,\n",
       " <h2 id=\"books-last7\">Top 100 EBooks last 7 days</h2>,\n",
       " <h2 id=\"authors-last7\">Top 100 Authors last 7 days</h2>,\n",
       " <h2 id=\"books-last30\">Top 100 EBooks last 30 days</h2>,\n",
       " <h2 id=\"authors-last30\">Top 100 Authors last 30 days</h2>]"
      ]
     },
     "execution_count": 11,
     "metadata": {},
     "output_type": "execute_result"
    }
   ],
   "source": [
    "# use find_all to get multiple tags\n",
    "soup.find_all(['h2', 'b'])"
   ]
  },
  {
   "cell_type": "markdown",
   "metadata": {},
   "source": [
    "other filters"
   ]
  },
  {
   "cell_type": "code",
   "execution_count": 12,
   "metadata": {},
   "outputs": [
    {
     "data": {
      "text/plain": [
       "[]"
      ]
     },
     "execution_count": 12,
     "metadata": {},
     "output_type": "execute_result"
    }
   ],
   "source": [
    "# access parent of an element\n",
    "btag = soup.find_all('b')\n",
    "bpara = [ b.parent for b in btag]\n",
    "bpara"
   ]
  },
  {
   "cell_type": "markdown",
   "metadata": {},
   "source": [
    "## Web Scraping with BeautifulSoup Part 2.1"
   ]
  },
  {
   "cell_type": "markdown",
   "metadata": {},
   "source": [
    "Scraping and working with links to data.\n",
    "- parse tree and string(text) format.\n",
    "\n",
    "- filtering the text with get(). "
   ]
  },
  {
   "cell_type": "markdown",
   "metadata": {},
   "source": [
    "> Search for files on web page"
   ]
  },
  {
   "cell_type": "markdown",
   "metadata": {},
   "source": [
    "Finding pages with downloadable data"
   ]
  },
  {
   "cell_type": "code",
   "execution_count": 13,
   "metadata": {},
   "outputs": [],
   "source": [
    "# Get list of documentation pages\n",
    "\n",
    "file_type='documentation'\n",
    "\n",
    "for link in soup.find_all('li'):\n",
    "    for a in link.find_all('a'):\n",
    "        file_link=a.get('href')\n",
    "        if file_type in file_link:\n",
    "            print(file_link)"
   ]
  },
  {
   "cell_type": "markdown",
   "metadata": {},
   "source": [
    "Find tags that contain certain letters. Using ^ find tags that begin with said letter.\n",
    "\n",
    "> re creates a search such that it is regex search, '^', searching for any tag that begins with a letter."
   ]
  },
  {
   "cell_type": "code",
   "execution_count": 14,
   "metadata": {},
   "outputs": [],
   "source": [
    "# import package for regex\n",
    "import re"
   ]
  },
  {
   "cell_type": "markdown",
   "metadata": {},
   "source": [
    "Begins with 'b'"
   ]
  },
  {
   "cell_type": "code",
   "execution_count": 15,
   "metadata": {},
   "outputs": [
    {
     "data": {
      "text/plain": [
       "[<input id=\"search-toggle\" name=\"toggle\" style=\"display: none\" type=\"radio\"/>,\n",
       " <input id=\"search-close\" name=\"toggle\" style=\"display: none\" type=\"radio\"/>,\n",
       " <input id=\"about-toggle\" style=\"display: none\" type=\"checkbox\"/>,\n",
       " <img alt=\"Project Gutenberg\" draggable=\"false\" src=\"/gutenberg/pg-logo-129x80.png\"/>,\n",
       " <input aria-label=\"Search books\" class=\"search-input\" name=\"query\" placeholder=\"Quick search\" type=\"text\"/>]"
      ]
     },
     "execution_count": 15,
     "metadata": {},
     "output_type": "execute_result"
    }
   ],
   "source": [
    "# use find_all and regex to search\n",
    "soup.find_all(re.compile('^i'), limit=5)"
   ]
  },
  {
   "cell_type": "markdown",
   "metadata": {},
   "source": [
    "Begins with 'l'"
   ]
  },
  {
   "cell_type": "code",
   "execution_count": 16,
   "metadata": {},
   "outputs": [
    {
     "data": {
      "text/plain": [
       "[<link href=\"/gutenberg/style2.css?v=1.7\" rel=\"stylesheet\"/>,\n",
       " <link href=\"/gutenberg/collapsible.css?1.3\" rel=\"stylesheet\"/>,\n",
       " <link href=\"/gutenberg/new_nav.css?v=1.6\" rel=\"stylesheet\"/>,\n",
       " <link href=\"/gutenberg/pg-desktop-one.css?v=1.1\" rel=\"stylesheet\"/>,\n",
       " <link href=\"https://www.gnu.org/copyleft/fdl.html\" rel=\"copyright\"/>]"
      ]
     },
     "execution_count": 16,
     "metadata": {},
     "output_type": "execute_result"
    }
   ],
   "source": [
    "soup.find_all(re.compile('^l'), limit=5)"
   ]
  },
  {
   "cell_type": "markdown",
   "metadata": {},
   "source": [
    "More on RegEx [HERE]('https://docs.python.org/3/library/re.html') and see the PDF, 'Python Regex Cheat Sheet'"
   ]
  },
  {
   "cell_type": "markdown",
   "metadata": {},
   "source": [
    "Put the top ebooks into a dataframe"
   ]
  },
  {
   "cell_type": "code",
   "execution_count": 17,
   "metadata": {},
   "outputs": [],
   "source": [
    "# loop through soup find url links and put in list\n",
    "file_type='ebooks'\n",
    "books=[]\n",
    "for link in soup.find_all(re.compile('^a')):\n",
    "    if file_type in link.get('href'):\n",
    "        books.append(link.text.strip())  "
   ]
  },
  {
   "cell_type": "code",
   "execution_count": 18,
   "metadata": {},
   "outputs": [],
   "source": [
    "# create a dataframe from list\n",
    "df=pd.DataFrame(books, columns=['top_ebooks'])"
   ]
  },
  {
   "cell_type": "code",
   "execution_count": 19,
   "metadata": {},
   "outputs": [
    {
     "data": {
      "text/html": [
       "<div>\n",
       "<style scoped>\n",
       "    .dataframe tbody tr th:only-of-type {\n",
       "        vertical-align: middle;\n",
       "    }\n",
       "\n",
       "    .dataframe tbody tr th {\n",
       "        vertical-align: top;\n",
       "    }\n",
       "\n",
       "    .dataframe thead th {\n",
       "        text-align: right;\n",
       "    }\n",
       "</style>\n",
       "<table border=\"1\" class=\"dataframe\">\n",
       "  <thead>\n",
       "    <tr style=\"text-align: right;\">\n",
       "      <th></th>\n",
       "      <th>top_ebooks</th>\n",
       "    </tr>\n",
       "  </thead>\n",
       "  <tbody>\n",
       "    <tr>\n",
       "      <th>0</th>\n",
       "      <td>Offline Catalogs</td>\n",
       "    </tr>\n",
       "    <tr>\n",
       "      <th>1</th>\n",
       "      <td>Main Categories</td>\n",
       "    </tr>\n",
       "    <tr>\n",
       "      <th>2</th>\n",
       "      <td>Reading Lists</td>\n",
       "    </tr>\n",
       "    <tr>\n",
       "      <th>3</th>\n",
       "      <td>Search Options</td>\n",
       "    </tr>\n",
       "    <tr>\n",
       "      <th>4</th>\n",
       "      <td>Main Categories</td>\n",
       "    </tr>\n",
       "    <tr>\n",
       "      <th>5</th>\n",
       "      <td>Moby Dick; Or, The Whale by Herman Melville (4...</td>\n",
       "    </tr>\n",
       "    <tr>\n",
       "      <th>6</th>\n",
       "      <td>Frankenstein; Or, The Modern Prometheus by Mar...</td>\n",
       "    </tr>\n",
       "    <tr>\n",
       "      <th>7</th>\n",
       "      <td>Romeo and Juliet by William Shakespeare (2627)</td>\n",
       "    </tr>\n",
       "    <tr>\n",
       "      <th>8</th>\n",
       "      <td>Pride and Prejudice by Jane Austen (2247)</td>\n",
       "    </tr>\n",
       "    <tr>\n",
       "      <th>9</th>\n",
       "      <td>Alice's Adventures in Wonderland by Lewis Carr...</td>\n",
       "    </tr>\n",
       "  </tbody>\n",
       "</table>\n",
       "</div>"
      ],
      "text/plain": [
       "                                          top_ebooks\n",
       "0                                   Offline Catalogs\n",
       "1                                    Main Categories\n",
       "2                                      Reading Lists\n",
       "3                                     Search Options\n",
       "4                                    Main Categories\n",
       "5  Moby Dick; Or, The Whale by Herman Melville (4...\n",
       "6  Frankenstein; Or, The Modern Prometheus by Mar...\n",
       "7     Romeo and Juliet by William Shakespeare (2627)\n",
       "8          Pride and Prejudice by Jane Austen (2247)\n",
       "9  Alice's Adventures in Wonderland by Lewis Carr..."
      ]
     },
     "execution_count": 19,
     "metadata": {},
     "output_type": "execute_result"
    }
   ],
   "source": [
    "# view dataframe\n",
    "df.head(10)"
   ]
  },
  {
   "cell_type": "markdown",
   "metadata": {},
   "source": [
    "Delete first 4 rows"
   ]
  },
  {
   "cell_type": "code",
   "execution_count": 20,
   "metadata": {},
   "outputs": [],
   "source": [
    "# clean up dataframe\n",
    "df = df.drop( labels=range(0, 4), axis=0)"
   ]
  },
  {
   "cell_type": "code",
   "execution_count": 21,
   "metadata": {},
   "outputs": [
    {
     "data": {
      "text/html": [
       "<div>\n",
       "<style scoped>\n",
       "    .dataframe tbody tr th:only-of-type {\n",
       "        vertical-align: middle;\n",
       "    }\n",
       "\n",
       "    .dataframe tbody tr th {\n",
       "        vertical-align: top;\n",
       "    }\n",
       "\n",
       "    .dataframe thead th {\n",
       "        text-align: right;\n",
       "    }\n",
       "</style>\n",
       "<table border=\"1\" class=\"dataframe\">\n",
       "  <thead>\n",
       "    <tr style=\"text-align: right;\">\n",
       "      <th></th>\n",
       "      <th>top_ebooks</th>\n",
       "    </tr>\n",
       "  </thead>\n",
       "  <tbody>\n",
       "    <tr>\n",
       "      <th>4</th>\n",
       "      <td>Main Categories</td>\n",
       "    </tr>\n",
       "    <tr>\n",
       "      <th>5</th>\n",
       "      <td>Moby Dick; Or, The Whale by Herman Melville (4...</td>\n",
       "    </tr>\n",
       "    <tr>\n",
       "      <th>6</th>\n",
       "      <td>Frankenstein; Or, The Modern Prometheus by Mar...</td>\n",
       "    </tr>\n",
       "    <tr>\n",
       "      <th>7</th>\n",
       "      <td>Romeo and Juliet by William Shakespeare (2627)</td>\n",
       "    </tr>\n",
       "    <tr>\n",
       "      <th>8</th>\n",
       "      <td>Pride and Prejudice by Jane Austen (2247)</td>\n",
       "    </tr>\n",
       "    <tr>\n",
       "      <th>9</th>\n",
       "      <td>Alice's Adventures in Wonderland by Lewis Carr...</td>\n",
       "    </tr>\n",
       "    <tr>\n",
       "      <th>10</th>\n",
       "      <td>The Complete Works of William Shakespeare by W...</td>\n",
       "    </tr>\n",
       "    <tr>\n",
       "      <th>11</th>\n",
       "      <td>A Room with a View by E. M.  Forster (1934)</td>\n",
       "    </tr>\n",
       "    <tr>\n",
       "      <th>12</th>\n",
       "      <td>Middlemarch by George Eliot (1916)</td>\n",
       "    </tr>\n",
       "    <tr>\n",
       "      <th>13</th>\n",
       "      <td>Jane Eyre: An Autobiography by Charlotte Bront...</td>\n",
       "    </tr>\n",
       "  </tbody>\n",
       "</table>\n",
       "</div>"
      ],
      "text/plain": [
       "                                           top_ebooks\n",
       "4                                     Main Categories\n",
       "5   Moby Dick; Or, The Whale by Herman Melville (4...\n",
       "6   Frankenstein; Or, The Modern Prometheus by Mar...\n",
       "7      Romeo and Juliet by William Shakespeare (2627)\n",
       "8           Pride and Prejudice by Jane Austen (2247)\n",
       "9   Alice's Adventures in Wonderland by Lewis Carr...\n",
       "10  The Complete Works of William Shakespeare by W...\n",
       "11        A Room with a View by E. M.  Forster (1934)\n",
       "12                 Middlemarch by George Eliot (1916)\n",
       "13  Jane Eyre: An Autobiography by Charlotte Bront..."
      ]
     },
     "execution_count": 21,
     "metadata": {},
     "output_type": "execute_result"
    }
   ],
   "source": [
    "# view df\n",
    "df.head(10)"
   ]
  }
 ],
 "metadata": {
  "kernelspec": {
   "display_name": ".venv",
   "language": "python",
   "name": "python3"
  },
  "language_info": {
   "codemirror_mode": {
    "name": "ipython",
    "version": 3
   },
   "file_extension": ".py",
   "mimetype": "text/x-python",
   "name": "python",
   "nbconvert_exporter": "python",
   "pygments_lexer": "ipython3",
   "version": "3.10.6"
  },
  "orig_nbformat": 4
 },
 "nbformat": 4,
 "nbformat_minor": 2
}
